{
  "nbformat": 4,
  "nbformat_minor": 0,
  "metadata": {
    "colab": {
      "name": "Topic modeling : LSA | LDA",
      "provenance": [],
      "collapsed_sections": []
    },
    "kernelspec": {
      "name": "python3",
      "display_name": "Python 3"
    },
    "accelerator": "GPU"
  },
  "cells": [
    {
      "cell_type": "markdown",
      "metadata": {
        "id": "_DNJri0ovZy4"
      },
      "source": [
        "# ***Web Scrapping pour collecter les textes :***"
      ]
    },
    {
      "cell_type": "code",
      "metadata": {
        "id": "25Rh80RmswpT"
      },
      "source": [
        "import requests\n",
        "from bs4 import BeautifulSoup\n",
        "links=[]\n",
        "URL = 'https://www.moroccoworldnews.com/news-2/'\n",
        "i=0\n",
        "while(i<9):\n",
        "    p = requests.get(URL)\n",
        "    soup = BeautifulSoup(p.content, 'html.parser')\n",
        "    r = soup.find(class_='td-pb-span8 td-main-content')\n",
        "    URLS = r.find_all('div', class_='td-block-row')\n",
        "    for link in URLS:\n",
        "        href=link.find('a')['href']\n",
        "        links.append(href)\n",
        "    URL = \"https://www.moroccoworldnews.com/news-2\"+\"/page/\"+str(i+2)+\"/\"\n",
        "    i=i+1"
      ],
      "execution_count": null,
      "outputs": []
    },
    {
      "cell_type": "code",
      "metadata": {
        "id": "XkqHaqDW1N-r"
      },
      "source": [
        "#ARTICLES:\n",
        "\n",
        "ART=[]\n",
        "\n",
        "for link in links:\n",
        "  p = requests.get(link)\n",
        "  soup = BeautifulSoup(p.content, 'html.parser')\n",
        "  r = soup.find(class_= 'post-info-description')\n",
        "  spans = r.findAll('span')\n",
        "  d=\"\"\n",
        "  for i in spans:\n",
        "    d=d+i.text\n",
        "  ART.append(d)"
      ],
      "execution_count": null,
      "outputs": []
    },
    {
      "cell_type": "code",
      "metadata": {
        "id": "nN1EFlgrwgzQ",
        "colab": {
          "base_uri": "https://localhost:8080/",
          "height": 54
        },
        "outputId": "def11421-08d9-40c0-a9eb-17cbb8e2cf08"
      },
      "source": [
        "ART[0]"
      ],
      "execution_count": null,
      "outputs": [
        {
          "output_type": "execute_result",
          "data": {
            "text/plain": [
              "'Rabat – Morocco’s Ministry of Health has confirmed 431 new COVID-19 cases in the last 24 hours, bringing the country’s total recorded case count to 11,338 as of today at 6 p.m.The ministry reported one additional death, with the death toll totaling 217. This represents a mortality rate of 1.9%, a marginal decrease from yesterday’s 2% figure.Morocco also recorded 32 new recoveries in 24 hours, bringing the country’s total to 8,500. This brings the recovery rate to 75%. This is down slightly from yesterday’s 77.6%.The Ministry of Health reported that it is now conducting more than 20,000 daily tests.The number of active COVID-19 cases throughout Morocco continues to rise significantly on a daily basis in line with recent trends, now totaling 2,621.Today’s announcement comes as Morocco continues to gradually ease confinement measures, in line with local epidemiological developments. The government has pledged to announce any amendments to the eased measures on a weekly basis.'"
            ]
          },
          "metadata": {
            "tags": []
          },
          "execution_count": 3
        }
      ]
    },
    {
      "cell_type": "markdown",
      "metadata": {
        "id": "1AvWaxeV23YP"
      },
      "source": [
        "# ***Pré-traitement des textes***"
      ]
    },
    {
      "cell_type": "markdown",
      "metadata": {
        "id": "grIj1C1N7Z6l"
      },
      "source": [
        "## 1.Harmonisation de la case:"
      ]
    },
    {
      "cell_type": "code",
      "metadata": {
        "id": "smKmR6Po7BKk"
      },
      "source": [
        "for i in range(len(ART)):\n",
        "  ART[i]=ART[i].lower()"
      ],
      "execution_count": null,
      "outputs": []
    },
    {
      "cell_type": "code",
      "metadata": {
        "id": "rnD1V2-mwQtE",
        "colab": {
          "base_uri": "https://localhost:8080/",
          "height": 54
        },
        "outputId": "8d8bb815-8da1-4d10-c84c-382085294db4"
      },
      "source": [
        "ART[0]"
      ],
      "execution_count": null,
      "outputs": [
        {
          "output_type": "execute_result",
          "data": {
            "text/plain": [
              "'rabat – morocco’s ministry of health has confirmed 431 new covid-19 cases in the last 24 hours, bringing the country’s total recorded case count to 11,338 as of today at 6 p.m.the ministry reported one additional death, with the death toll totaling 217. this represents a mortality rate of 1.9%, a marginal decrease from yesterday’s 2% figure.morocco also recorded 32 new recoveries in 24 hours, bringing the country’s total to 8,500. this brings the recovery rate to 75%. this is down slightly from yesterday’s 77.6%.the ministry of health reported that it is now conducting more than 20,000 daily tests.the number of active covid-19 cases throughout morocco continues to rise significantly on a daily basis in line with recent trends, now totaling 2,621.today’s announcement comes as morocco continues to gradually ease confinement measures, in line with local epidemiological developments. the government has pledged to announce any amendments to the eased measures on a weekly basis.'"
            ]
          },
          "metadata": {
            "tags": []
          },
          "execution_count": 5
        }
      ]
    },
    {
      "cell_type": "markdown",
      "metadata": {
        "id": "ynk6T9kF7pbi"
      },
      "source": [
        "## 2.Supression de la ponctuation:"
      ]
    },
    {
      "cell_type": "code",
      "metadata": {
        "id": "lK7nqupQ8ox1"
      },
      "source": [
        "import string"
      ],
      "execution_count": null,
      "outputs": []
    },
    {
      "cell_type": "code",
      "metadata": {
        "id": "__sVDWQC8zSh"
      },
      "source": [
        "for i in range(len(ART)):\n",
        "  ART[i]=ART[i].translate(str.maketrans('', '', string.punctuation))\n"
      ],
      "execution_count": null,
      "outputs": []
    },
    {
      "cell_type": "code",
      "metadata": {
        "id": "Gtu7vd9TvXps",
        "colab": {
          "base_uri": "https://localhost:8080/",
          "height": 54
        },
        "outputId": "7e737012-7a7b-4cb7-ec44-7ad1079b1c23"
      },
      "source": [
        "ART[0]"
      ],
      "execution_count": null,
      "outputs": [
        {
          "output_type": "execute_result",
          "data": {
            "text/plain": [
              "'rabat – morocco’s ministry of health has confirmed 431 new covid19 cases in the last 24 hours bringing the country’s total recorded case count to 11338 as of today at 6 pmthe ministry reported one additional death with the death toll totaling 217 this represents a mortality rate of 19 a marginal decrease from yesterday’s 2 figuremorocco also recorded 32 new recoveries in 24 hours bringing the country’s total to 8500 this brings the recovery rate to 75 this is down slightly from yesterday’s 776the ministry of health reported that it is now conducting more than 20000 daily teststhe number of active covid19 cases throughout morocco continues to rise significantly on a daily basis in line with recent trends now totaling 2621today’s announcement comes as morocco continues to gradually ease confinement measures in line with local epidemiological developments the government has pledged to announce any amendments to the eased measures on a weekly basis'"
            ]
          },
          "metadata": {
            "tags": []
          },
          "execution_count": 8
        }
      ]
    },
    {
      "cell_type": "markdown",
      "metadata": {
        "id": "Gxp2l_jK-34s"
      },
      "source": [
        "## 3.Supression des caractères spéciaux et des chiffres"
      ]
    },
    {
      "cell_type": "code",
      "metadata": {
        "id": "HuSRBkFLCem2"
      },
      "source": [
        "import re"
      ],
      "execution_count": null,
      "outputs": []
    },
    {
      "cell_type": "code",
      "metadata": {
        "id": "Ng7XY0yz-3Sq"
      },
      "source": [
        "for i in range(len(ART)):\n",
        "   ART[i]=re.sub('[^A-Za-z]+', ' ', ART[i])"
      ],
      "execution_count": null,
      "outputs": []
    },
    {
      "cell_type": "code",
      "metadata": {
        "id": "ZuyDBWj1xICU",
        "colab": {
          "base_uri": "https://localhost:8080/",
          "height": 54
        },
        "outputId": "40e610fe-720c-45d2-d03f-3d8f19803cc4"
      },
      "source": [
        "ART[0]"
      ],
      "execution_count": null,
      "outputs": [
        {
          "output_type": "execute_result",
          "data": {
            "text/plain": [
              "'rabat morocco s ministry of health has confirmed new covid cases in the last hours bringing the country s total recorded case count to as of today at pmthe ministry reported one additional death with the death toll totaling this represents a mortality rate of a marginal decrease from yesterday s figuremorocco also recorded new recoveries in hours bringing the country s total to this brings the recovery rate to this is down slightly from yesterday s the ministry of health reported that it is now conducting more than daily teststhe number of active covid cases throughout morocco continues to rise significantly on a daily basis in line with recent trends now totaling today s announcement comes as morocco continues to gradually ease confinement measures in line with local epidemiological developments the government has pledged to announce any amendments to the eased measures on a weekly basis'"
            ]
          },
          "metadata": {
            "tags": []
          },
          "execution_count": 11
        }
      ]
    },
    {
      "cell_type": "markdown",
      "metadata": {
        "id": "RGJfx4ehId5e"
      },
      "source": [
        "### Tokenization:"
      ]
    },
    {
      "cell_type": "code",
      "metadata": {
        "id": "DPJqmdLDI9Nq"
      },
      "source": [
        "words=[]*len(ART)\n",
        "for i in range(len(ART)):\n",
        "  words.append(ART[i].split())"
      ],
      "execution_count": null,
      "outputs": []
    },
    {
      "cell_type": "markdown",
      "metadata": {
        "id": "9KKYpjnuOL6r"
      },
      "source": [
        "### Supression des stops words"
      ]
    },
    {
      "cell_type": "code",
      "metadata": {
        "id": "hcmR0RJudJ1n",
        "colab": {
          "base_uri": "https://localhost:8080/",
          "height": 69
        },
        "outputId": "8cded7ff-c76b-4223-f13d-e9cefe2166c8"
      },
      "source": [
        "import nltk\n",
        "nltk.download('stopwords')"
      ],
      "execution_count": null,
      "outputs": [
        {
          "output_type": "stream",
          "text": [
            "[nltk_data] Downloading package stopwords to /root/nltk_data...\n",
            "[nltk_data]   Unzipping corpora/stopwords.zip.\n"
          ],
          "name": "stdout"
        },
        {
          "output_type": "execute_result",
          "data": {
            "text/plain": [
              "True"
            ]
          },
          "metadata": {
            "tags": []
          },
          "execution_count": 13
        }
      ]
    },
    {
      "cell_type": "code",
      "metadata": {
        "id": "StQKD6owON5P"
      },
      "source": [
        "from nltk.corpus import stopwords"
      ],
      "execution_count": null,
      "outputs": []
    },
    {
      "cell_type": "code",
      "metadata": {
        "id": "-kFRAFRXQl7F"
      },
      "source": [
        "stop_words =set(stopwords.words('english')) "
      ],
      "execution_count": null,
      "outputs": []
    },
    {
      "cell_type": "code",
      "metadata": {
        "id": "ViLS72o0Zj2-"
      },
      "source": [
        "unique_words=[]*len(words)\n",
        "for i in range(len(words)):\n",
        "  unique_words.append([word for word in words[i] if not word in stop_words])"
      ],
      "execution_count": null,
      "outputs": []
    },
    {
      "cell_type": "markdown",
      "metadata": {
        "id": "nzuo8c70cb9E"
      },
      "source": [
        "### Lemmatisation"
      ]
    },
    {
      "cell_type": "code",
      "metadata": {
        "id": "6WtmSPY5eaZJ",
        "colab": {
          "base_uri": "https://localhost:8080/",
          "height": 69
        },
        "outputId": "d86fedbc-cdfc-41ce-a4a7-287ba6845e8a"
      },
      "source": [
        "nltk.download('wordnet')"
      ],
      "execution_count": null,
      "outputs": [
        {
          "output_type": "stream",
          "text": [
            "[nltk_data] Downloading package wordnet to /root/nltk_data...\n",
            "[nltk_data]   Unzipping corpora/wordnet.zip.\n"
          ],
          "name": "stdout"
        },
        {
          "output_type": "execute_result",
          "data": {
            "text/plain": [
              "True"
            ]
          },
          "metadata": {
            "tags": []
          },
          "execution_count": 17
        }
      ]
    },
    {
      "cell_type": "code",
      "metadata": {
        "id": "weBKrearcgTA"
      },
      "source": [
        "from nltk.stem import WordNetLemmatizer "
      ],
      "execution_count": null,
      "outputs": []
    },
    {
      "cell_type": "code",
      "metadata": {
        "id": "igJfDPhYfOvK"
      },
      "source": [
        "lemmatized_words=[]*len(unique_words)\n",
        "lemmatizeur = WordNetLemmatizer()\n",
        "for i in range(len(unique_words)):\n",
        "  lemmatized_words.append([lemmatizeur.lemmatize(w) for w in unique_words[i]])\n"
      ],
      "execution_count": null,
      "outputs": []
    },
    {
      "cell_type": "markdown",
      "metadata": {
        "id": "8AjoEN9NsTto"
      },
      "source": [
        "##Stemming"
      ]
    },
    {
      "cell_type": "code",
      "metadata": {
        "id": "Z-L7fGoGsUv-"
      },
      "source": [
        "from nltk.stem import PorterStemmer \n"
      ],
      "execution_count": null,
      "outputs": []
    },
    {
      "cell_type": "code",
      "metadata": {
        "id": "JmHHzBC3sekY"
      },
      "source": [
        "stemmed_lemmatized_words=[]*len(lemmatized_words)\n",
        "stemmeur=PorterStemmer() \n",
        "for i in range(len(unique_words)):\n",
        "  stemmed_lemmatized_words.append([stemmeur.stem(w) for w in lemmatized_words[i]])\n"
      ],
      "execution_count": null,
      "outputs": []
    },
    {
      "cell_type": "markdown",
      "metadata": {
        "id": "xTIEe4OOi5vy"
      },
      "source": [
        "# ***Execution des models LSA et LDA :*** \n"
      ]
    },
    {
      "cell_type": "markdown",
      "metadata": {
        "id": "xMfqn5nRjC4Z"
      },
      "source": [
        "### Bag of Words et la matrice article-termes"
      ]
    },
    {
      "cell_type": "markdown",
      "metadata": {
        "id": "_N_nNp5nkeVQ"
      },
      "source": [
        "The Bag of Words :"
      ]
    },
    {
      "cell_type": "code",
      "metadata": {
        "id": "23krfNwhtLkM"
      },
      "source": [
        "from itertools import chain\n",
        "B_of_words = list(set(chain.from_iterable(stemmed_lemmatized_words)))"
      ],
      "execution_count": null,
      "outputs": []
    },
    {
      "cell_type": "markdown",
      "metadata": {
        "id": "XpR_1oHmklVv"
      },
      "source": [
        "The article-terme matrix :"
      ]
    },
    {
      "cell_type": "code",
      "metadata": {
        "id": "ADcvd8yQi4up"
      },
      "source": [
        "nbr_of_terms = []*len(ART)\n",
        "\n",
        "for i in range(len(ART)):\n",
        "\n",
        "  nbr_of_terms.append(dict.fromkeys(B_of_words, 0))\n",
        "  for term in stemmed_lemmatized_words[i]:\n",
        "      nbr_of_terms[i][term] += 1"
      ],
      "execution_count": null,
      "outputs": []
    },
    {
      "cell_type": "code",
      "metadata": {
        "id": "FjDAL-Upkt1C",
        "colab": {
          "base_uri": "https://localhost:8080/",
          "height": 436
        },
        "outputId": "bd9effa2-9425-4c45-e068-8a8d432cf176"
      },
      "source": [
        "import pandas as pd\n",
        "\n",
        "Matrix_article_term = pd.DataFrame(nbr_of_terms)\n",
        "Matrix_article_term"
      ],
      "execution_count": null,
      "outputs": [
        {
          "output_type": "execute_result",
          "data": {
            "text/html": [
              "<div>\n",
              "<style scoped>\n",
              "    .dataframe tbody tr th:only-of-type {\n",
              "        vertical-align: middle;\n",
              "    }\n",
              "\n",
              "    .dataframe tbody tr th {\n",
              "        vertical-align: top;\n",
              "    }\n",
              "\n",
              "    .dataframe thead th {\n",
              "        text-align: right;\n",
              "    }\n",
              "</style>\n",
              "<table border=\"1\" class=\"dataframe\">\n",
              "  <thead>\n",
              "    <tr style=\"text-align: right;\">\n",
              "      <th></th>\n",
              "      <th>regist</th>\n",
              "      <th>generos</th>\n",
              "      <th>data</th>\n",
              "      <th>passport</th>\n",
              "      <th>tripartit</th>\n",
              "      <th>incur</th>\n",
              "      <th>strength</th>\n",
              "      <th>abolish</th>\n",
              "      <th>dignitari</th>\n",
              "      <th>fakih</th>\n",
              "      <th>iffou</th>\n",
              "      <th>inadvert</th>\n",
              "      <th>khashoggi</th>\n",
              "      <th>redal</th>\n",
              "      <th>gran</th>\n",
              "      <th>sandstorm</th>\n",
              "      <th>loss</th>\n",
              "      <th>talk</th>\n",
              "      <th>sister</th>\n",
              "      <th>selfisolateamzazi</th>\n",
              "      <th>increasingli</th>\n",
              "      <th>netizen</th>\n",
              "      <th>reshap</th>\n",
              "      <th>done</th>\n",
              "      <th>polisario</th>\n",
              "      <th>timo</th>\n",
              "      <th>belief</th>\n",
              "      <th>lawyer</th>\n",
              "      <th>bouritaspeak</th>\n",
              "      <th>journal</th>\n",
              "      <th>texa</th>\n",
              "      <th>express</th>\n",
              "      <th>could</th>\n",
              "      <th>sword</th>\n",
              "      <th>luc</th>\n",
              "      <th>impress</th>\n",
              "      <th>kilogram</th>\n",
              "      <th>eddahab</th>\n",
              "      <th>attent</th>\n",
              "      <th>corpor</th>\n",
              "      <th>...</th>\n",
              "      <th>increment</th>\n",
              "      <th>wherea</th>\n",
              "      <th>khalifath</th>\n",
              "      <th>review</th>\n",
              "      <th>part</th>\n",
              "      <th>contrast</th>\n",
              "      <th>customari</th>\n",
              "      <th>colombian</th>\n",
              "      <th>robert</th>\n",
              "      <th>tobroukbas</th>\n",
              "      <th>quarantineswhil</th>\n",
              "      <th>patientther</th>\n",
              "      <th>came</th>\n",
              "      <th>enabl</th>\n",
              "      <th>usback</th>\n",
              "      <th>materi</th>\n",
              "      <th>debat</th>\n",
              "      <th>penal</th>\n",
              "      <th>resign</th>\n",
              "      <th>billion</th>\n",
              "      <th>sundayagadirtangi</th>\n",
              "      <th>take</th>\n",
              "      <th>dortmund</th>\n",
              "      <th>analyz</th>\n",
              "      <th>glasgow</th>\n",
              "      <th>shop</th>\n",
              "      <th>deaf</th>\n",
              "      <th>hirak</th>\n",
              "      <th>entrepreneurship</th>\n",
              "      <th>airplan</th>\n",
              "      <th>ibn</th>\n",
              "      <th>marketsth</th>\n",
              "      <th>oujdaal</th>\n",
              "      <th>abroadspeak</th>\n",
              "      <th>forefront</th>\n",
              "      <th>cuisin</th>\n",
              "      <th>provinc</th>\n",
              "      <th>fli</th>\n",
              "      <th>flee</th>\n",
              "      <th>capacityread</th>\n",
              "    </tr>\n",
              "  </thead>\n",
              "  <tbody>\n",
              "    <tr>\n",
              "      <th>0</th>\n",
              "      <td>0</td>\n",
              "      <td>0</td>\n",
              "      <td>0</td>\n",
              "      <td>0</td>\n",
              "      <td>0</td>\n",
              "      <td>0</td>\n",
              "      <td>0</td>\n",
              "      <td>0</td>\n",
              "      <td>0</td>\n",
              "      <td>0</td>\n",
              "      <td>0</td>\n",
              "      <td>0</td>\n",
              "      <td>0</td>\n",
              "      <td>0</td>\n",
              "      <td>0</td>\n",
              "      <td>0</td>\n",
              "      <td>0</td>\n",
              "      <td>0</td>\n",
              "      <td>0</td>\n",
              "      <td>0</td>\n",
              "      <td>0</td>\n",
              "      <td>0</td>\n",
              "      <td>0</td>\n",
              "      <td>0</td>\n",
              "      <td>0</td>\n",
              "      <td>0</td>\n",
              "      <td>0</td>\n",
              "      <td>0</td>\n",
              "      <td>0</td>\n",
              "      <td>0</td>\n",
              "      <td>0</td>\n",
              "      <td>0</td>\n",
              "      <td>0</td>\n",
              "      <td>0</td>\n",
              "      <td>0</td>\n",
              "      <td>0</td>\n",
              "      <td>0</td>\n",
              "      <td>0</td>\n",
              "      <td>0</td>\n",
              "      <td>0</td>\n",
              "      <td>...</td>\n",
              "      <td>0</td>\n",
              "      <td>0</td>\n",
              "      <td>0</td>\n",
              "      <td>0</td>\n",
              "      <td>0</td>\n",
              "      <td>0</td>\n",
              "      <td>0</td>\n",
              "      <td>0</td>\n",
              "      <td>0</td>\n",
              "      <td>0</td>\n",
              "      <td>0</td>\n",
              "      <td>0</td>\n",
              "      <td>0</td>\n",
              "      <td>0</td>\n",
              "      <td>0</td>\n",
              "      <td>0</td>\n",
              "      <td>0</td>\n",
              "      <td>0</td>\n",
              "      <td>0</td>\n",
              "      <td>0</td>\n",
              "      <td>0</td>\n",
              "      <td>0</td>\n",
              "      <td>0</td>\n",
              "      <td>0</td>\n",
              "      <td>0</td>\n",
              "      <td>0</td>\n",
              "      <td>0</td>\n",
              "      <td>0</td>\n",
              "      <td>0</td>\n",
              "      <td>0</td>\n",
              "      <td>0</td>\n",
              "      <td>0</td>\n",
              "      <td>0</td>\n",
              "      <td>0</td>\n",
              "      <td>0</td>\n",
              "      <td>0</td>\n",
              "      <td>0</td>\n",
              "      <td>0</td>\n",
              "      <td>0</td>\n",
              "      <td>0</td>\n",
              "    </tr>\n",
              "    <tr>\n",
              "      <th>1</th>\n",
              "      <td>0</td>\n",
              "      <td>0</td>\n",
              "      <td>0</td>\n",
              "      <td>0</td>\n",
              "      <td>0</td>\n",
              "      <td>0</td>\n",
              "      <td>0</td>\n",
              "      <td>0</td>\n",
              "      <td>0</td>\n",
              "      <td>0</td>\n",
              "      <td>0</td>\n",
              "      <td>0</td>\n",
              "      <td>0</td>\n",
              "      <td>0</td>\n",
              "      <td>0</td>\n",
              "      <td>0</td>\n",
              "      <td>0</td>\n",
              "      <td>0</td>\n",
              "      <td>0</td>\n",
              "      <td>0</td>\n",
              "      <td>0</td>\n",
              "      <td>0</td>\n",
              "      <td>0</td>\n",
              "      <td>0</td>\n",
              "      <td>0</td>\n",
              "      <td>0</td>\n",
              "      <td>0</td>\n",
              "      <td>0</td>\n",
              "      <td>0</td>\n",
              "      <td>0</td>\n",
              "      <td>0</td>\n",
              "      <td>0</td>\n",
              "      <td>0</td>\n",
              "      <td>0</td>\n",
              "      <td>0</td>\n",
              "      <td>0</td>\n",
              "      <td>0</td>\n",
              "      <td>0</td>\n",
              "      <td>0</td>\n",
              "      <td>0</td>\n",
              "      <td>...</td>\n",
              "      <td>0</td>\n",
              "      <td>0</td>\n",
              "      <td>0</td>\n",
              "      <td>0</td>\n",
              "      <td>1</td>\n",
              "      <td>0</td>\n",
              "      <td>0</td>\n",
              "      <td>0</td>\n",
              "      <td>0</td>\n",
              "      <td>0</td>\n",
              "      <td>0</td>\n",
              "      <td>0</td>\n",
              "      <td>0</td>\n",
              "      <td>1</td>\n",
              "      <td>0</td>\n",
              "      <td>0</td>\n",
              "      <td>0</td>\n",
              "      <td>0</td>\n",
              "      <td>0</td>\n",
              "      <td>0</td>\n",
              "      <td>0</td>\n",
              "      <td>0</td>\n",
              "      <td>0</td>\n",
              "      <td>0</td>\n",
              "      <td>0</td>\n",
              "      <td>0</td>\n",
              "      <td>0</td>\n",
              "      <td>0</td>\n",
              "      <td>0</td>\n",
              "      <td>0</td>\n",
              "      <td>1</td>\n",
              "      <td>0</td>\n",
              "      <td>0</td>\n",
              "      <td>0</td>\n",
              "      <td>0</td>\n",
              "      <td>0</td>\n",
              "      <td>0</td>\n",
              "      <td>0</td>\n",
              "      <td>0</td>\n",
              "      <td>0</td>\n",
              "    </tr>\n",
              "    <tr>\n",
              "      <th>2</th>\n",
              "      <td>0</td>\n",
              "      <td>0</td>\n",
              "      <td>2</td>\n",
              "      <td>0</td>\n",
              "      <td>0</td>\n",
              "      <td>0</td>\n",
              "      <td>0</td>\n",
              "      <td>0</td>\n",
              "      <td>0</td>\n",
              "      <td>0</td>\n",
              "      <td>0</td>\n",
              "      <td>0</td>\n",
              "      <td>0</td>\n",
              "      <td>0</td>\n",
              "      <td>0</td>\n",
              "      <td>0</td>\n",
              "      <td>0</td>\n",
              "      <td>0</td>\n",
              "      <td>0</td>\n",
              "      <td>0</td>\n",
              "      <td>0</td>\n",
              "      <td>0</td>\n",
              "      <td>0</td>\n",
              "      <td>0</td>\n",
              "      <td>0</td>\n",
              "      <td>0</td>\n",
              "      <td>0</td>\n",
              "      <td>0</td>\n",
              "      <td>0</td>\n",
              "      <td>0</td>\n",
              "      <td>0</td>\n",
              "      <td>0</td>\n",
              "      <td>0</td>\n",
              "      <td>0</td>\n",
              "      <td>0</td>\n",
              "      <td>0</td>\n",
              "      <td>0</td>\n",
              "      <td>0</td>\n",
              "      <td>0</td>\n",
              "      <td>0</td>\n",
              "      <td>...</td>\n",
              "      <td>0</td>\n",
              "      <td>0</td>\n",
              "      <td>0</td>\n",
              "      <td>0</td>\n",
              "      <td>0</td>\n",
              "      <td>0</td>\n",
              "      <td>0</td>\n",
              "      <td>0</td>\n",
              "      <td>0</td>\n",
              "      <td>0</td>\n",
              "      <td>0</td>\n",
              "      <td>1</td>\n",
              "      <td>0</td>\n",
              "      <td>0</td>\n",
              "      <td>0</td>\n",
              "      <td>0</td>\n",
              "      <td>0</td>\n",
              "      <td>0</td>\n",
              "      <td>0</td>\n",
              "      <td>0</td>\n",
              "      <td>0</td>\n",
              "      <td>2</td>\n",
              "      <td>0</td>\n",
              "      <td>0</td>\n",
              "      <td>0</td>\n",
              "      <td>0</td>\n",
              "      <td>0</td>\n",
              "      <td>0</td>\n",
              "      <td>0</td>\n",
              "      <td>0</td>\n",
              "      <td>0</td>\n",
              "      <td>0</td>\n",
              "      <td>0</td>\n",
              "      <td>0</td>\n",
              "      <td>0</td>\n",
              "      <td>0</td>\n",
              "      <td>0</td>\n",
              "      <td>0</td>\n",
              "      <td>0</td>\n",
              "      <td>0</td>\n",
              "    </tr>\n",
              "    <tr>\n",
              "      <th>3</th>\n",
              "      <td>0</td>\n",
              "      <td>0</td>\n",
              "      <td>0</td>\n",
              "      <td>0</td>\n",
              "      <td>0</td>\n",
              "      <td>0</td>\n",
              "      <td>0</td>\n",
              "      <td>0</td>\n",
              "      <td>0</td>\n",
              "      <td>0</td>\n",
              "      <td>0</td>\n",
              "      <td>0</td>\n",
              "      <td>0</td>\n",
              "      <td>0</td>\n",
              "      <td>0</td>\n",
              "      <td>0</td>\n",
              "      <td>0</td>\n",
              "      <td>0</td>\n",
              "      <td>0</td>\n",
              "      <td>0</td>\n",
              "      <td>0</td>\n",
              "      <td>0</td>\n",
              "      <td>0</td>\n",
              "      <td>0</td>\n",
              "      <td>0</td>\n",
              "      <td>0</td>\n",
              "      <td>0</td>\n",
              "      <td>0</td>\n",
              "      <td>0</td>\n",
              "      <td>0</td>\n",
              "      <td>0</td>\n",
              "      <td>0</td>\n",
              "      <td>0</td>\n",
              "      <td>0</td>\n",
              "      <td>0</td>\n",
              "      <td>0</td>\n",
              "      <td>0</td>\n",
              "      <td>0</td>\n",
              "      <td>0</td>\n",
              "      <td>0</td>\n",
              "      <td>...</td>\n",
              "      <td>0</td>\n",
              "      <td>0</td>\n",
              "      <td>0</td>\n",
              "      <td>0</td>\n",
              "      <td>1</td>\n",
              "      <td>0</td>\n",
              "      <td>0</td>\n",
              "      <td>0</td>\n",
              "      <td>0</td>\n",
              "      <td>0</td>\n",
              "      <td>0</td>\n",
              "      <td>0</td>\n",
              "      <td>0</td>\n",
              "      <td>0</td>\n",
              "      <td>0</td>\n",
              "      <td>0</td>\n",
              "      <td>0</td>\n",
              "      <td>0</td>\n",
              "      <td>0</td>\n",
              "      <td>0</td>\n",
              "      <td>0</td>\n",
              "      <td>1</td>\n",
              "      <td>0</td>\n",
              "      <td>0</td>\n",
              "      <td>0</td>\n",
              "      <td>0</td>\n",
              "      <td>0</td>\n",
              "      <td>0</td>\n",
              "      <td>0</td>\n",
              "      <td>0</td>\n",
              "      <td>0</td>\n",
              "      <td>0</td>\n",
              "      <td>0</td>\n",
              "      <td>0</td>\n",
              "      <td>0</td>\n",
              "      <td>0</td>\n",
              "      <td>0</td>\n",
              "      <td>0</td>\n",
              "      <td>0</td>\n",
              "      <td>0</td>\n",
              "    </tr>\n",
              "    <tr>\n",
              "      <th>4</th>\n",
              "      <td>0</td>\n",
              "      <td>0</td>\n",
              "      <td>0</td>\n",
              "      <td>0</td>\n",
              "      <td>0</td>\n",
              "      <td>0</td>\n",
              "      <td>0</td>\n",
              "      <td>0</td>\n",
              "      <td>0</td>\n",
              "      <td>0</td>\n",
              "      <td>0</td>\n",
              "      <td>0</td>\n",
              "      <td>0</td>\n",
              "      <td>0</td>\n",
              "      <td>0</td>\n",
              "      <td>0</td>\n",
              "      <td>0</td>\n",
              "      <td>0</td>\n",
              "      <td>0</td>\n",
              "      <td>0</td>\n",
              "      <td>0</td>\n",
              "      <td>0</td>\n",
              "      <td>0</td>\n",
              "      <td>0</td>\n",
              "      <td>0</td>\n",
              "      <td>0</td>\n",
              "      <td>0</td>\n",
              "      <td>0</td>\n",
              "      <td>0</td>\n",
              "      <td>0</td>\n",
              "      <td>0</td>\n",
              "      <td>1</td>\n",
              "      <td>0</td>\n",
              "      <td>0</td>\n",
              "      <td>0</td>\n",
              "      <td>0</td>\n",
              "      <td>0</td>\n",
              "      <td>0</td>\n",
              "      <td>0</td>\n",
              "      <td>0</td>\n",
              "      <td>...</td>\n",
              "      <td>0</td>\n",
              "      <td>0</td>\n",
              "      <td>0</td>\n",
              "      <td>0</td>\n",
              "      <td>0</td>\n",
              "      <td>0</td>\n",
              "      <td>0</td>\n",
              "      <td>0</td>\n",
              "      <td>0</td>\n",
              "      <td>0</td>\n",
              "      <td>0</td>\n",
              "      <td>0</td>\n",
              "      <td>0</td>\n",
              "      <td>0</td>\n",
              "      <td>1</td>\n",
              "      <td>0</td>\n",
              "      <td>0</td>\n",
              "      <td>0</td>\n",
              "      <td>0</td>\n",
              "      <td>0</td>\n",
              "      <td>0</td>\n",
              "      <td>0</td>\n",
              "      <td>0</td>\n",
              "      <td>0</td>\n",
              "      <td>0</td>\n",
              "      <td>0</td>\n",
              "      <td>0</td>\n",
              "      <td>0</td>\n",
              "      <td>0</td>\n",
              "      <td>0</td>\n",
              "      <td>0</td>\n",
              "      <td>0</td>\n",
              "      <td>0</td>\n",
              "      <td>0</td>\n",
              "      <td>0</td>\n",
              "      <td>0</td>\n",
              "      <td>0</td>\n",
              "      <td>0</td>\n",
              "      <td>0</td>\n",
              "      <td>0</td>\n",
              "    </tr>\n",
              "    <tr>\n",
              "      <th>...</th>\n",
              "      <td>...</td>\n",
              "      <td>...</td>\n",
              "      <td>...</td>\n",
              "      <td>...</td>\n",
              "      <td>...</td>\n",
              "      <td>...</td>\n",
              "      <td>...</td>\n",
              "      <td>...</td>\n",
              "      <td>...</td>\n",
              "      <td>...</td>\n",
              "      <td>...</td>\n",
              "      <td>...</td>\n",
              "      <td>...</td>\n",
              "      <td>...</td>\n",
              "      <td>...</td>\n",
              "      <td>...</td>\n",
              "      <td>...</td>\n",
              "      <td>...</td>\n",
              "      <td>...</td>\n",
              "      <td>...</td>\n",
              "      <td>...</td>\n",
              "      <td>...</td>\n",
              "      <td>...</td>\n",
              "      <td>...</td>\n",
              "      <td>...</td>\n",
              "      <td>...</td>\n",
              "      <td>...</td>\n",
              "      <td>...</td>\n",
              "      <td>...</td>\n",
              "      <td>...</td>\n",
              "      <td>...</td>\n",
              "      <td>...</td>\n",
              "      <td>...</td>\n",
              "      <td>...</td>\n",
              "      <td>...</td>\n",
              "      <td>...</td>\n",
              "      <td>...</td>\n",
              "      <td>...</td>\n",
              "      <td>...</td>\n",
              "      <td>...</td>\n",
              "      <td>...</td>\n",
              "      <td>...</td>\n",
              "      <td>...</td>\n",
              "      <td>...</td>\n",
              "      <td>...</td>\n",
              "      <td>...</td>\n",
              "      <td>...</td>\n",
              "      <td>...</td>\n",
              "      <td>...</td>\n",
              "      <td>...</td>\n",
              "      <td>...</td>\n",
              "      <td>...</td>\n",
              "      <td>...</td>\n",
              "      <td>...</td>\n",
              "      <td>...</td>\n",
              "      <td>...</td>\n",
              "      <td>...</td>\n",
              "      <td>...</td>\n",
              "      <td>...</td>\n",
              "      <td>...</td>\n",
              "      <td>...</td>\n",
              "      <td>...</td>\n",
              "      <td>...</td>\n",
              "      <td>...</td>\n",
              "      <td>...</td>\n",
              "      <td>...</td>\n",
              "      <td>...</td>\n",
              "      <td>...</td>\n",
              "      <td>...</td>\n",
              "      <td>...</td>\n",
              "      <td>...</td>\n",
              "      <td>...</td>\n",
              "      <td>...</td>\n",
              "      <td>...</td>\n",
              "      <td>...</td>\n",
              "      <td>...</td>\n",
              "      <td>...</td>\n",
              "      <td>...</td>\n",
              "      <td>...</td>\n",
              "      <td>...</td>\n",
              "      <td>...</td>\n",
              "    </tr>\n",
              "    <tr>\n",
              "      <th>112</th>\n",
              "      <td>1</td>\n",
              "      <td>0</td>\n",
              "      <td>0</td>\n",
              "      <td>0</td>\n",
              "      <td>0</td>\n",
              "      <td>0</td>\n",
              "      <td>0</td>\n",
              "      <td>0</td>\n",
              "      <td>0</td>\n",
              "      <td>0</td>\n",
              "      <td>0</td>\n",
              "      <td>0</td>\n",
              "      <td>0</td>\n",
              "      <td>0</td>\n",
              "      <td>0</td>\n",
              "      <td>0</td>\n",
              "      <td>0</td>\n",
              "      <td>0</td>\n",
              "      <td>0</td>\n",
              "      <td>0</td>\n",
              "      <td>0</td>\n",
              "      <td>0</td>\n",
              "      <td>0</td>\n",
              "      <td>0</td>\n",
              "      <td>0</td>\n",
              "      <td>0</td>\n",
              "      <td>0</td>\n",
              "      <td>0</td>\n",
              "      <td>0</td>\n",
              "      <td>0</td>\n",
              "      <td>0</td>\n",
              "      <td>0</td>\n",
              "      <td>0</td>\n",
              "      <td>0</td>\n",
              "      <td>0</td>\n",
              "      <td>0</td>\n",
              "      <td>0</td>\n",
              "      <td>0</td>\n",
              "      <td>0</td>\n",
              "      <td>0</td>\n",
              "      <td>...</td>\n",
              "      <td>0</td>\n",
              "      <td>0</td>\n",
              "      <td>0</td>\n",
              "      <td>0</td>\n",
              "      <td>0</td>\n",
              "      <td>0</td>\n",
              "      <td>0</td>\n",
              "      <td>0</td>\n",
              "      <td>0</td>\n",
              "      <td>0</td>\n",
              "      <td>0</td>\n",
              "      <td>0</td>\n",
              "      <td>0</td>\n",
              "      <td>0</td>\n",
              "      <td>0</td>\n",
              "      <td>0</td>\n",
              "      <td>0</td>\n",
              "      <td>0</td>\n",
              "      <td>0</td>\n",
              "      <td>0</td>\n",
              "      <td>0</td>\n",
              "      <td>0</td>\n",
              "      <td>0</td>\n",
              "      <td>0</td>\n",
              "      <td>0</td>\n",
              "      <td>0</td>\n",
              "      <td>0</td>\n",
              "      <td>0</td>\n",
              "      <td>0</td>\n",
              "      <td>0</td>\n",
              "      <td>0</td>\n",
              "      <td>0</td>\n",
              "      <td>0</td>\n",
              "      <td>0</td>\n",
              "      <td>0</td>\n",
              "      <td>0</td>\n",
              "      <td>0</td>\n",
              "      <td>0</td>\n",
              "      <td>0</td>\n",
              "      <td>0</td>\n",
              "    </tr>\n",
              "    <tr>\n",
              "      <th>113</th>\n",
              "      <td>0</td>\n",
              "      <td>0</td>\n",
              "      <td>0</td>\n",
              "      <td>0</td>\n",
              "      <td>0</td>\n",
              "      <td>0</td>\n",
              "      <td>0</td>\n",
              "      <td>0</td>\n",
              "      <td>0</td>\n",
              "      <td>0</td>\n",
              "      <td>0</td>\n",
              "      <td>0</td>\n",
              "      <td>0</td>\n",
              "      <td>0</td>\n",
              "      <td>0</td>\n",
              "      <td>0</td>\n",
              "      <td>0</td>\n",
              "      <td>0</td>\n",
              "      <td>0</td>\n",
              "      <td>0</td>\n",
              "      <td>0</td>\n",
              "      <td>0</td>\n",
              "      <td>0</td>\n",
              "      <td>0</td>\n",
              "      <td>0</td>\n",
              "      <td>0</td>\n",
              "      <td>0</td>\n",
              "      <td>0</td>\n",
              "      <td>0</td>\n",
              "      <td>0</td>\n",
              "      <td>0</td>\n",
              "      <td>0</td>\n",
              "      <td>0</td>\n",
              "      <td>0</td>\n",
              "      <td>0</td>\n",
              "      <td>0</td>\n",
              "      <td>0</td>\n",
              "      <td>0</td>\n",
              "      <td>0</td>\n",
              "      <td>0</td>\n",
              "      <td>...</td>\n",
              "      <td>0</td>\n",
              "      <td>0</td>\n",
              "      <td>0</td>\n",
              "      <td>0</td>\n",
              "      <td>0</td>\n",
              "      <td>0</td>\n",
              "      <td>0</td>\n",
              "      <td>0</td>\n",
              "      <td>0</td>\n",
              "      <td>0</td>\n",
              "      <td>0</td>\n",
              "      <td>0</td>\n",
              "      <td>0</td>\n",
              "      <td>0</td>\n",
              "      <td>0</td>\n",
              "      <td>0</td>\n",
              "      <td>0</td>\n",
              "      <td>0</td>\n",
              "      <td>0</td>\n",
              "      <td>1</td>\n",
              "      <td>0</td>\n",
              "      <td>1</td>\n",
              "      <td>0</td>\n",
              "      <td>0</td>\n",
              "      <td>0</td>\n",
              "      <td>0</td>\n",
              "      <td>0</td>\n",
              "      <td>0</td>\n",
              "      <td>0</td>\n",
              "      <td>0</td>\n",
              "      <td>0</td>\n",
              "      <td>0</td>\n",
              "      <td>0</td>\n",
              "      <td>0</td>\n",
              "      <td>0</td>\n",
              "      <td>0</td>\n",
              "      <td>0</td>\n",
              "      <td>0</td>\n",
              "      <td>0</td>\n",
              "      <td>0</td>\n",
              "    </tr>\n",
              "    <tr>\n",
              "      <th>114</th>\n",
              "      <td>0</td>\n",
              "      <td>0</td>\n",
              "      <td>0</td>\n",
              "      <td>0</td>\n",
              "      <td>0</td>\n",
              "      <td>0</td>\n",
              "      <td>0</td>\n",
              "      <td>0</td>\n",
              "      <td>0</td>\n",
              "      <td>0</td>\n",
              "      <td>0</td>\n",
              "      <td>0</td>\n",
              "      <td>0</td>\n",
              "      <td>0</td>\n",
              "      <td>0</td>\n",
              "      <td>0</td>\n",
              "      <td>0</td>\n",
              "      <td>0</td>\n",
              "      <td>0</td>\n",
              "      <td>0</td>\n",
              "      <td>0</td>\n",
              "      <td>0</td>\n",
              "      <td>0</td>\n",
              "      <td>0</td>\n",
              "      <td>0</td>\n",
              "      <td>0</td>\n",
              "      <td>0</td>\n",
              "      <td>0</td>\n",
              "      <td>0</td>\n",
              "      <td>0</td>\n",
              "      <td>0</td>\n",
              "      <td>0</td>\n",
              "      <td>0</td>\n",
              "      <td>0</td>\n",
              "      <td>0</td>\n",
              "      <td>0</td>\n",
              "      <td>0</td>\n",
              "      <td>0</td>\n",
              "      <td>0</td>\n",
              "      <td>0</td>\n",
              "      <td>...</td>\n",
              "      <td>0</td>\n",
              "      <td>0</td>\n",
              "      <td>0</td>\n",
              "      <td>0</td>\n",
              "      <td>0</td>\n",
              "      <td>0</td>\n",
              "      <td>0</td>\n",
              "      <td>0</td>\n",
              "      <td>0</td>\n",
              "      <td>0</td>\n",
              "      <td>0</td>\n",
              "      <td>0</td>\n",
              "      <td>0</td>\n",
              "      <td>0</td>\n",
              "      <td>0</td>\n",
              "      <td>0</td>\n",
              "      <td>0</td>\n",
              "      <td>0</td>\n",
              "      <td>0</td>\n",
              "      <td>0</td>\n",
              "      <td>0</td>\n",
              "      <td>0</td>\n",
              "      <td>0</td>\n",
              "      <td>0</td>\n",
              "      <td>0</td>\n",
              "      <td>0</td>\n",
              "      <td>0</td>\n",
              "      <td>0</td>\n",
              "      <td>0</td>\n",
              "      <td>0</td>\n",
              "      <td>0</td>\n",
              "      <td>0</td>\n",
              "      <td>0</td>\n",
              "      <td>0</td>\n",
              "      <td>0</td>\n",
              "      <td>0</td>\n",
              "      <td>0</td>\n",
              "      <td>0</td>\n",
              "      <td>0</td>\n",
              "      <td>0</td>\n",
              "    </tr>\n",
              "    <tr>\n",
              "      <th>115</th>\n",
              "      <td>0</td>\n",
              "      <td>0</td>\n",
              "      <td>0</td>\n",
              "      <td>0</td>\n",
              "      <td>0</td>\n",
              "      <td>0</td>\n",
              "      <td>0</td>\n",
              "      <td>0</td>\n",
              "      <td>0</td>\n",
              "      <td>0</td>\n",
              "      <td>0</td>\n",
              "      <td>0</td>\n",
              "      <td>0</td>\n",
              "      <td>0</td>\n",
              "      <td>0</td>\n",
              "      <td>0</td>\n",
              "      <td>0</td>\n",
              "      <td>0</td>\n",
              "      <td>0</td>\n",
              "      <td>0</td>\n",
              "      <td>0</td>\n",
              "      <td>0</td>\n",
              "      <td>0</td>\n",
              "      <td>0</td>\n",
              "      <td>0</td>\n",
              "      <td>0</td>\n",
              "      <td>0</td>\n",
              "      <td>0</td>\n",
              "      <td>0</td>\n",
              "      <td>0</td>\n",
              "      <td>0</td>\n",
              "      <td>0</td>\n",
              "      <td>0</td>\n",
              "      <td>0</td>\n",
              "      <td>0</td>\n",
              "      <td>0</td>\n",
              "      <td>0</td>\n",
              "      <td>0</td>\n",
              "      <td>0</td>\n",
              "      <td>0</td>\n",
              "      <td>...</td>\n",
              "      <td>0</td>\n",
              "      <td>0</td>\n",
              "      <td>0</td>\n",
              "      <td>0</td>\n",
              "      <td>0</td>\n",
              "      <td>0</td>\n",
              "      <td>0</td>\n",
              "      <td>0</td>\n",
              "      <td>0</td>\n",
              "      <td>0</td>\n",
              "      <td>0</td>\n",
              "      <td>0</td>\n",
              "      <td>1</td>\n",
              "      <td>0</td>\n",
              "      <td>0</td>\n",
              "      <td>0</td>\n",
              "      <td>0</td>\n",
              "      <td>0</td>\n",
              "      <td>0</td>\n",
              "      <td>0</td>\n",
              "      <td>0</td>\n",
              "      <td>0</td>\n",
              "      <td>0</td>\n",
              "      <td>0</td>\n",
              "      <td>0</td>\n",
              "      <td>0</td>\n",
              "      <td>0</td>\n",
              "      <td>0</td>\n",
              "      <td>0</td>\n",
              "      <td>0</td>\n",
              "      <td>0</td>\n",
              "      <td>0</td>\n",
              "      <td>0</td>\n",
              "      <td>0</td>\n",
              "      <td>0</td>\n",
              "      <td>0</td>\n",
              "      <td>0</td>\n",
              "      <td>0</td>\n",
              "      <td>0</td>\n",
              "      <td>0</td>\n",
              "    </tr>\n",
              "    <tr>\n",
              "      <th>116</th>\n",
              "      <td>0</td>\n",
              "      <td>0</td>\n",
              "      <td>0</td>\n",
              "      <td>0</td>\n",
              "      <td>0</td>\n",
              "      <td>0</td>\n",
              "      <td>0</td>\n",
              "      <td>0</td>\n",
              "      <td>0</td>\n",
              "      <td>0</td>\n",
              "      <td>0</td>\n",
              "      <td>0</td>\n",
              "      <td>0</td>\n",
              "      <td>0</td>\n",
              "      <td>0</td>\n",
              "      <td>0</td>\n",
              "      <td>0</td>\n",
              "      <td>0</td>\n",
              "      <td>0</td>\n",
              "      <td>0</td>\n",
              "      <td>0</td>\n",
              "      <td>0</td>\n",
              "      <td>0</td>\n",
              "      <td>0</td>\n",
              "      <td>0</td>\n",
              "      <td>0</td>\n",
              "      <td>0</td>\n",
              "      <td>0</td>\n",
              "      <td>0</td>\n",
              "      <td>0</td>\n",
              "      <td>0</td>\n",
              "      <td>0</td>\n",
              "      <td>0</td>\n",
              "      <td>0</td>\n",
              "      <td>0</td>\n",
              "      <td>0</td>\n",
              "      <td>0</td>\n",
              "      <td>0</td>\n",
              "      <td>0</td>\n",
              "      <td>0</td>\n",
              "      <td>...</td>\n",
              "      <td>0</td>\n",
              "      <td>0</td>\n",
              "      <td>0</td>\n",
              "      <td>0</td>\n",
              "      <td>0</td>\n",
              "      <td>0</td>\n",
              "      <td>0</td>\n",
              "      <td>0</td>\n",
              "      <td>0</td>\n",
              "      <td>0</td>\n",
              "      <td>0</td>\n",
              "      <td>0</td>\n",
              "      <td>0</td>\n",
              "      <td>0</td>\n",
              "      <td>0</td>\n",
              "      <td>0</td>\n",
              "      <td>0</td>\n",
              "      <td>0</td>\n",
              "      <td>0</td>\n",
              "      <td>0</td>\n",
              "      <td>0</td>\n",
              "      <td>1</td>\n",
              "      <td>0</td>\n",
              "      <td>0</td>\n",
              "      <td>0</td>\n",
              "      <td>0</td>\n",
              "      <td>0</td>\n",
              "      <td>0</td>\n",
              "      <td>0</td>\n",
              "      <td>0</td>\n",
              "      <td>0</td>\n",
              "      <td>0</td>\n",
              "      <td>0</td>\n",
              "      <td>0</td>\n",
              "      <td>0</td>\n",
              "      <td>0</td>\n",
              "      <td>0</td>\n",
              "      <td>0</td>\n",
              "      <td>0</td>\n",
              "      <td>0</td>\n",
              "    </tr>\n",
              "  </tbody>\n",
              "</table>\n",
              "<p>117 rows × 5275 columns</p>\n",
              "</div>"
            ],
            "text/plain": [
              "     regist  generos  data  passport  ...  provinc  fli  flee  capacityread\n",
              "0         0        0     0         0  ...        0    0     0             0\n",
              "1         0        0     0         0  ...        0    0     0             0\n",
              "2         0        0     2         0  ...        0    0     0             0\n",
              "3         0        0     0         0  ...        0    0     0             0\n",
              "4         0        0     0         0  ...        0    0     0             0\n",
              "..      ...      ...   ...       ...  ...      ...  ...   ...           ...\n",
              "112       1        0     0         0  ...        0    0     0             0\n",
              "113       0        0     0         0  ...        0    0     0             0\n",
              "114       0        0     0         0  ...        0    0     0             0\n",
              "115       0        0     0         0  ...        0    0     0             0\n",
              "116       0        0     0         0  ...        0    0     0             0\n",
              "\n",
              "[117 rows x 5275 columns]"
            ]
          },
          "metadata": {
            "tags": []
          },
          "execution_count": 24
        }
      ]
    },
    {
      "cell_type": "markdown",
      "metadata": {
        "id": "i8qgXw0flItT"
      },
      "source": [
        "**La matrice article-term avec la librairie gensim :**"
      ]
    },
    {
      "cell_type": "code",
      "metadata": {
        "id": "ebCKO0EylYfn"
      },
      "source": [
        "from gensim import corpora, models\n",
        "\n",
        "AllWords = corpora.Dictionary(stemmed_lemmatized_words)\n",
        "B_of_words2 = [AllWords.doc2bow(SLW) for SLW in stemmed_lemmatized_words]\n"
      ],
      "execution_count": null,
      "outputs": []
    },
    {
      "cell_type": "markdown",
      "metadata": {
        "id": "qgFeKjKyjNwq"
      },
      "source": [
        "## 1 - Le modèle LSA :"
      ]
    },
    {
      "cell_type": "code",
      "metadata": {
        "id": "jdFx29mUi44R"
      },
      "source": [
        "import gensim\n",
        "from gensim import corpora, models\n"
      ],
      "execution_count": null,
      "outputs": []
    },
    {
      "cell_type": "markdown",
      "metadata": {
        "id": "nXLWgK4l4HqU"
      },
      "source": [
        "Les Données \n"
      ]
    },
    {
      "cell_type": "code",
      "metadata": {
        "id": "cxG2B-f91-Hm"
      },
      "source": [
        "Terms_LSA = corpora.Dictionary(stemmed_lemmatized_words)\n",
        "Bag_of_Words = [AllWords.doc2bow(SLW) for SLW in stemmed_lemmatized_words]"
      ],
      "execution_count": null,
      "outputs": []
    },
    {
      "cell_type": "markdown",
      "metadata": {
        "id": "h_VqKMRm5Dyj"
      },
      "source": [
        "**The article-terme matrix :**"
      ]
    },
    {
      "cell_type": "code",
      "metadata": {
        "id": "uJBR1FtP5Bry"
      },
      "source": [
        "from gensim.models import LsiModel\n",
        "LSAmodel = LsiModel(Bag_of_Words , num_topics=2, id2word =Terms_LSA )  \n"
      ],
      "execution_count": null,
      "outputs": []
    },
    {
      "cell_type": "markdown",
      "metadata": {
        "id": "MkKi5rlr6-S5"
      },
      "source": [
        "\n",
        "\n",
        "\n",
        "**RESULAT**"
      ]
    },
    {
      "cell_type": "code",
      "metadata": {
        "id": "Kf0h7t1T7ySA",
        "colab": {
          "base_uri": "https://localhost:8080/",
          "height": 54
        },
        "outputId": "71100d4e-b10d-4529-ad94-d35c09ff764a"
      },
      "source": [
        "print(LSAmodel.print_topics(num_topics=2, num_words=10))"
      ],
      "execution_count": null,
      "outputs": [
        {
          "output_type": "stream",
          "text": [
            "[(0, '-0.491*\"morocco\" + -0.287*\"moroccan\" + -0.275*\"countri\" + -0.170*\"intern\" + -0.165*\"algeria\" + -0.151*\"said\" + -0.135*\"govern\" + -0.130*\"covid\" + -0.120*\"report\" + -0.115*\"also\"'), (1, '0.319*\"donkey\" + -0.293*\"intern\" + -0.268*\"amnesti\" + -0.225*\"report\" + -0.214*\"use\" + -0.177*\"spywar\" + 0.172*\"anim\" + 0.152*\"care\" + 0.145*\"work\" + 0.128*\"moulay\"')]\n"
          ],
          "name": "stdout"
        }
      ]
    },
    {
      "cell_type": "markdown",
      "metadata": {
        "id": "ZrTK99FNlhr2"
      },
      "source": [
        "## 2 - Le modèle LDA (avec le bag of Words) sur la matrice :"
      ]
    },
    {
      "cell_type": "code",
      "metadata": {
        "id": "g9AHntyelfIG"
      },
      "source": [
        "import gensim\n",
        "LDAmodel = gensim.models.ldamodel.LdaModel(B_of_words2, num_topics=2, id2word = AllWords, passes=30)"
      ],
      "execution_count": null,
      "outputs": []
    },
    {
      "cell_type": "markdown",
      "metadata": {
        "id": "jacQMj_YmolZ"
      },
      "source": [
        "**Les resultats num 1 :**"
      ]
    },
    {
      "cell_type": "code",
      "metadata": {
        "id": "FEJNLkq3mwem",
        "colab": {
          "base_uri": "https://localhost:8080/",
          "height": 54
        },
        "outputId": "e097f02e-a3d6-45c0-cf1c-135769b14d9d"
      },
      "source": [
        "print(LDAmodel.print_topics(num_topics=2, num_words=10))"
      ],
      "execution_count": null,
      "outputs": [
        {
          "output_type": "stream",
          "text": [
            "[(0, '0.018*\"morocco\" + 0.011*\"countri\" + 0.008*\"covid\" + 0.007*\"moroccan\" + 0.006*\"said\" + 0.005*\"case\" + 0.005*\"health\" + 0.005*\"also\" + 0.005*\"african\" + 0.005*\"intern\"'), (1, '0.010*\"morocco\" + 0.010*\"moroccan\" + 0.006*\"countri\" + 0.006*\"june\" + 0.006*\"also\" + 0.005*\"repatri\" + 0.005*\"includ\" + 0.005*\"oper\" + 0.004*\"covid\" + 0.004*\"said\"')]\n"
          ],
          "name": "stdout"
        }
      ]
    },
    {
      "cell_type": "markdown",
      "metadata": {
        "id": "zhMZq1tWm0u3"
      },
      "source": [
        "## 3 - le modèle LDA avec TF-IDF :"
      ]
    },
    {
      "cell_type": "code",
      "metadata": {
        "id": "Ku_GrZGznSv_"
      },
      "source": [
        "TFidf = models.TfidfModel(B_of_words2)\n",
        "AllWords_TFidf = TFidf[B_of_words2]"
      ],
      "execution_count": null,
      "outputs": []
    },
    {
      "cell_type": "code",
      "metadata": {
        "id": "g82s46jVnX9j"
      },
      "source": [
        "LDAmodel_TFidf = gensim.models.LdaMulticore(AllWords_TFidf, num_topics=2, id2word=AllWords, passes=2, workers=3)\n"
      ],
      "execution_count": null,
      "outputs": []
    },
    {
      "cell_type": "markdown",
      "metadata": {
        "id": "cQKaFSsKnjJm"
      },
      "source": [
        "**Les resultats num 2 :**"
      ]
    },
    {
      "cell_type": "code",
      "metadata": {
        "id": "Ya3Sscc-njJn",
        "colab": {
          "base_uri": "https://localhost:8080/",
          "height": 54
        },
        "outputId": "a7ef332c-33b7-4ae5-f56e-fbc621ea2b7f"
      },
      "source": [
        "print(LDAmodel_TFidf.print_topics(num_topics=2, num_words=10))"
      ],
      "execution_count": null,
      "outputs": [
        {
          "output_type": "stream",
          "text": [
            "[(0, '0.001*\"repatri\" + 0.001*\"african\" + 0.001*\"strand\" + 0.001*\"king\" + 0.001*\"child\" + 0.001*\"medic\" + 0.001*\"zone\" + 0.001*\"algeria\" + 0.001*\"aid\" + 0.001*\"initi\"'), (1, '0.001*\"case\" + 0.001*\"region\" + 0.001*\"measur\" + 0.001*\"ministri\" + 0.001*\"health\" + 0.001*\"total\" + 0.001*\"hour\" + 0.001*\"record\" + 0.001*\"new\" + 0.001*\"regist\"')]\n"
          ],
          "name": "stdout"
        }
      ]
    },
    {
      "cell_type": "markdown",
      "metadata": {
        "id": "z1C-RRrFjAEJ"
      },
      "source": [
        "# **Évaluation des performances :**"
      ]
    },
    {
      "cell_type": "code",
      "metadata": {
        "id": "HYIYlNZ8-gKq",
        "colab": {
          "base_uri": "https://localhost:8080/",
          "height": 54
        },
        "outputId": "f1767b27-7755-4c1c-fc62-b301fd594a18"
      },
      "source": [
        "ART[99]"
      ],
      "execution_count": null,
      "outputs": [
        {
          "output_type": "execute_result",
          "data": {
            "text/plain": [
              "'rabat beijing did not register any new covid cases for nearly two months until that streak broke on june since then a total of locals have tested positive for the virus the chinese government had started easing the nationwide lockdown in april and public spaces such as schools shops and offices resumed operations this occurred during a time when much of the world was observing china as a postpandemic examplemany anticipated a second coronavirus wave in china and after months of eased restrictions coronavirus reappeared in beijing one of the most populous cities in the worldbeijing officials immediately sealed the area where they detected cases and began mass covid testingauthorities confirmed that the new cases originated in a wholesale market xinfadi the largest of its kind in asia the market provides supplies for tens of thousands of people every day seeing cases detected in a market of this scale has instilled fear not only in the hearts of citizens but also the officials of beijingsenior city government official xu ying made a comparison in a news conference between the efforts to contain covid in the area and war neighborhoods and nearly epidemiccontrol workers had entered the battlefield xu said in other words the market and its surrounding neighborhoods have been sealed while china prepares for mass testing across the areathe chinese government imposed a strict series of precautionary measures to prevent the spread of the virus these included the reinforcement of security checkpoints that restrict movement schools and sports venues and other public spaces such as malls offices and supermarkets started checking the temperature of all visitorsthe global coronavirus outbreak started in wuhan china in december and spread rapidly across the region the number of cases peaked in february and started to decrease in march as most infected patients had made a full recovery at that point the containment remained stable until the recent outbreak in beijing'"
            ]
          },
          "metadata": {
            "tags": []
          },
          "execution_count": 35
        }
      ]
    },
    {
      "cell_type": "code",
      "metadata": {
        "id": "bOPGjPiqde5D"
      },
      "source": [
        "text_evaluation = B_of_words2[99] "
      ],
      "execution_count": null,
      "outputs": []
    },
    {
      "cell_type": "markdown",
      "metadata": {
        "id": "JdQYcr7fhYKz"
      },
      "source": [
        "**1-Évaluation des performances en classant un exemple de document à l'aide du modèle LSA**"
      ]
    },
    {
      "cell_type": "code",
      "metadata": {
        "id": "LSWnQWDxhUkS",
        "colab": {
          "base_uri": "https://localhost:8080/",
          "height": 121
        },
        "outputId": "75827f10-195e-4ebe-b919-55958613ffdd"
      },
      "source": [
        "for index, score in sorted(LSAmodel[text_evaluation], key=lambda tup: -1*tup[1]):\n",
        "    print(\"\\nScore: {}\\t \\nTopic: {}\".format(score, LSAmodel.print_topic(index, 9)))"
      ],
      "execution_count": null,
      "outputs": [
        {
          "output_type": "stream",
          "text": [
            "\n",
            "Score: 1.1030387184404589\t \n",
            "Topic: 0.319*\"donkey\" + -0.293*\"intern\" + -0.268*\"amnesti\" + -0.225*\"report\" + -0.214*\"use\" + -0.177*\"spywar\" + 0.172*\"anim\" + 0.152*\"care\" + 0.145*\"work\"\n",
            "\n",
            "Score: -4.046206287612737\t \n",
            "Topic: -0.491*\"morocco\" + -0.287*\"moroccan\" + -0.275*\"countri\" + -0.170*\"intern\" + -0.165*\"algeria\" + -0.151*\"said\" + -0.135*\"govern\" + -0.130*\"covid\" + -0.120*\"report\"\n"
          ],
          "name": "stdout"
        }
      ]
    },
    {
      "cell_type": "markdown",
      "metadata": {
        "id": "Hc-6nwHKadYU"
      },
      "source": [
        "\n",
        "**2-Évaluation des performances en classant un exemple de document à l'aide du modèle LDA Bag of Words**"
      ]
    },
    {
      "cell_type": "code",
      "metadata": {
        "id": "ihTL8b4AdfQS",
        "colab": {
          "base_uri": "https://localhost:8080/",
          "height": 86
        },
        "outputId": "3817552b-51b4-4dc7-afd2-862895a6733d"
      },
      "source": [
        "for index, score in sorted(LDAmodel[text_evaluation], key=lambda tup: -1*tup[1]):\n",
        "    print(\"\\nScore : {} Sujet : {}\".format(score, LDAmodel.print_topic(index, 9)))"
      ],
      "execution_count": null,
      "outputs": [
        {
          "output_type": "stream",
          "text": [
            "\n",
            "Score : 0.8939690589904785 Sujet : 0.018*\"morocco\" + 0.011*\"countri\" + 0.008*\"covid\" + 0.007*\"moroccan\" + 0.006*\"said\" + 0.005*\"case\" + 0.005*\"health\" + 0.005*\"also\" + 0.005*\"african\"\n",
            "\n",
            "Score : 0.10603100061416626 Sujet : 0.010*\"morocco\" + 0.010*\"moroccan\" + 0.006*\"countri\" + 0.006*\"june\" + 0.006*\"also\" + 0.005*\"repatri\" + 0.005*\"includ\" + 0.005*\"oper\" + 0.004*\"covid\"\n"
          ],
          "name": "stdout"
        }
      ]
    },
    {
      "cell_type": "markdown",
      "metadata": {
        "id": "DPPFs-AcfwYA"
      },
      "source": [
        "**3-Évaluation des performances en classant un exemple de document à l'aide du modèle LDA TF-IDF**"
      ]
    },
    {
      "cell_type": "code",
      "metadata": {
        "id": "TQcgIdbzfzr9",
        "colab": {
          "base_uri": "https://localhost:8080/",
          "height": 69
        },
        "outputId": "9e6c60d3-31ee-4976-f9f2-b2bb54045417"
      },
      "source": [
        "for index, score in sorted(LDAmodel_TFidf[text_evaluation], key=lambda tup: -1*tup[1]):\n",
        "    print(\"\\nScore: {}\\t \\nTopic: {}\".format(score, LDAmodel_TFidf.print_topic(index, 9)))"
      ],
      "execution_count": null,
      "outputs": [
        {
          "output_type": "stream",
          "text": [
            "\n",
            "Score: 0.9951769113540649\t \n",
            "Topic: 0.001*\"repatri\" + 0.001*\"african\" + 0.001*\"strand\" + 0.001*\"king\" + 0.001*\"child\" + 0.001*\"medic\" + 0.001*\"zone\" + 0.001*\"algeria\" + 0.001*\"aid\"\n"
          ],
          "name": "stdout"
        }
      ]
    },
    {
      "cell_type": "markdown",
      "metadata": {
        "id": "j1XgS11njPK7"
      },
      "source": [
        "# **Tester les modèle sur un nouveau article :**"
      ]
    },
    {
      "cell_type": "markdown",
      "metadata": {
        "id": "NEvIdo0TcguV"
      },
      "source": [
        "Text de test :"
      ]
    },
    {
      "cell_type": "code",
      "metadata": {
        "id": "am2rDxadcf3G"
      },
      "source": [
        "Text_Test=\"Rabat – Morocco’s Ministry of Health today confirmed 25 new COVID-19 cases, bringing the total number of cases to 8,533 as of 10 a.m. on June 11.  The ministry reported five new recoveries. Morocco’s total number of coronavirus recoveries is now 7,570. The recovery rate stands at 88.7%.   The health ministry announced no fatalities this morning.     The death toll remains at 211, with a 2.5% fatality rate.   The Casablanca-Settat and Marrakech-Safi regions have recorded the highest COVID-19 case counts, with 33.69 % of Morocco’s total cases and 18%, respectively.  The Tangier-Tetouan-Al Hoceima ha 14.36% cases, followed by Fez-Meknes ( 12.11%), Rabat-Sale-Kenitra ( 9.21%), Draa-Tafilalet ( 6.87%), and Oriental regions ( 2.30 %).  Beni Mellal-Khenifra has 1.49% of the cases, followed by Souss-Massa (1.05%), Guelmim-Oued Noun (0.54 %), Dakhla-Oued Ed Dahab (0.06 %), and Laayoune-Sakia El Hamra (0.06 %).     Since February, 355,817 suspected cases have tested negative from COVID-19.  On June 8, Morocco announced its decision to extend the state of emergency to July 10. The country also eased lockdown in several regions depending on the epidemiological situation in each region.  Citizens and residents living in Zone 1 can now leave their homes without special authorization, while citizens living in Zone 2 remain under strict lockdown.\""
      ],
      "execution_count": null,
      "outputs": []
    },
    {
      "cell_type": "markdown",
      "metadata": {
        "id": "i8ONxKwxyLCZ"
      },
      "source": [
        "Pre-traitement du nouveau text :"
      ]
    },
    {
      "cell_type": "code",
      "metadata": {
        "id": "TsuWhx2bkp_U"
      },
      "source": [
        "Text_Test = Text_Test.lower()\n",
        "Text_Test = Text_Test.translate(str.maketrans('', '', string.punctuation))\n",
        "Text_Test=re.sub('[^A-Za-z]+', ' ', Text_Test)\n",
        "Text_Test = Text_Test.split()\n",
        "TestText = [word for word in Text_Test if not word in stop_words]\n",
        "TestText = [lemmatizeur.lemmatize(w) for w in TestText]\n",
        "TestText = [stemmeur.stem(w) for w in TestText]\n",
        "boW_Text_Test = AllWords.doc2bow(TestText)"
      ],
      "execution_count": null,
      "outputs": []
    },
    {
      "cell_type": "markdown",
      "metadata": {
        "id": "xDvUmQJgnELB"
      },
      "source": [
        "## Test des modèles :"
      ]
    },
    {
      "cell_type": "markdown",
      "metadata": {
        "id": "ctbuIq8rqHLA"
      },
      "source": [
        "1 - LSA :"
      ]
    },
    {
      "cell_type": "code",
      "metadata": {
        "id": "YXC2CL3vqJLd",
        "colab": {
          "base_uri": "https://localhost:8080/",
          "height": 72
        },
        "outputId": "67a95e31-9e4d-4b5a-9a42-0a814adf4b56"
      },
      "source": [
        "for ind, score in sorted(LSAmodel[boW_Text_Test], key=lambda tup: -1*tup[1]):\n",
        "    print(\"Score: {}\\t Topic: {}\".format(score, LSAmodel.print_topic(ind, 11)))"
      ],
      "execution_count": null,
      "outputs": [
        {
          "output_type": "stream",
          "text": [
            "Score: 0.8482431560471563\t Topic: 0.319*\"donkey\" + -0.293*\"intern\" + -0.268*\"amnesti\" + -0.225*\"report\" + -0.214*\"use\" + -0.177*\"spywar\" + 0.172*\"anim\" + 0.152*\"care\" + 0.145*\"work\" + 0.128*\"moulay\" + 0.124*\"button\"\n",
            "Score: -5.5660090035848295\t Topic: -0.491*\"morocco\" + -0.287*\"moroccan\" + -0.275*\"countri\" + -0.170*\"intern\" + -0.165*\"algeria\" + -0.151*\"said\" + -0.135*\"govern\" + -0.130*\"covid\" + -0.120*\"report\" + -0.115*\"also\" + -0.102*\"use\"\n"
          ],
          "name": "stdout"
        }
      ]
    },
    {
      "cell_type": "markdown",
      "metadata": {
        "id": "Mlp8qH8zqC1F"
      },
      "source": [
        "2 - LDA avec BoW :"
      ]
    },
    {
      "cell_type": "code",
      "metadata": {
        "id": "wjxFLU5oa2Nz",
        "colab": {
          "base_uri": "https://localhost:8080/",
          "height": 72
        },
        "outputId": "1fa2195e-8803-494e-bc02-0cdb92b14959"
      },
      "source": [
        "for ind, score in sorted(LDAmodel[boW_Text_Test], key=lambda tup: -1*tup[1]):\n",
        "    print(\"Score: {}\\t Topic: {}\".format(score, LDAmodel.print_topic(ind, 11)))"
      ],
      "execution_count": null,
      "outputs": [
        {
          "output_type": "stream",
          "text": [
            "Score: 0.8412602543830872\t Topic: 0.018*\"morocco\" + 0.011*\"countri\" + 0.008*\"covid\" + 0.007*\"moroccan\" + 0.006*\"said\" + 0.005*\"case\" + 0.005*\"health\" + 0.005*\"also\" + 0.005*\"african\" + 0.005*\"intern\" + 0.004*\"algeria\"\n",
            "Score: 0.15873977541923523\t Topic: 0.010*\"morocco\" + 0.010*\"moroccan\" + 0.006*\"countri\" + 0.006*\"june\" + 0.006*\"also\" + 0.005*\"repatri\" + 0.005*\"includ\" + 0.005*\"oper\" + 0.004*\"covid\" + 0.004*\"said\" + 0.004*\"nation\"\n"
          ],
          "name": "stdout"
        }
      ]
    },
    {
      "cell_type": "markdown",
      "metadata": {
        "id": "wASC3HGWqWk6"
      },
      "source": [
        "3 - LDA avec TF-IDF :\n"
      ]
    },
    {
      "cell_type": "code",
      "metadata": {
        "id": "edUaR0nCqaay",
        "colab": {
          "base_uri": "https://localhost:8080/",
          "height": 72
        },
        "outputId": "d46c0ce8-76bc-4918-d8a5-ee7d6a4ca51c"
      },
      "source": [
        "for ind, score in sorted(LDAmodel_TFidf[boW_Text_Test], key=lambda tup: -1*tup[1]):\n",
        "    print(\"Score: {}\\t Topic: {}\".format(score, LDAmodel_TFidf.print_topic(ind, 11)))"
      ],
      "execution_count": null,
      "outputs": [
        {
          "output_type": "stream",
          "text": [
            "Score: 0.9887500405311584\t Topic: 0.001*\"case\" + 0.001*\"region\" + 0.001*\"measur\" + 0.001*\"ministri\" + 0.001*\"health\" + 0.001*\"total\" + 0.001*\"hour\" + 0.001*\"record\" + 0.001*\"new\" + 0.001*\"regist\" + 0.000*\"report\"\n",
            "Score: 0.011249926872551441\t Topic: 0.001*\"repatri\" + 0.001*\"african\" + 0.001*\"strand\" + 0.001*\"king\" + 0.001*\"child\" + 0.001*\"medic\" + 0.001*\"zone\" + 0.001*\"algeria\" + 0.001*\"aid\" + 0.001*\"initi\" + 0.001*\"moham\"\n"
          ],
          "name": "stdout"
        }
      ]
    }
  ]
}