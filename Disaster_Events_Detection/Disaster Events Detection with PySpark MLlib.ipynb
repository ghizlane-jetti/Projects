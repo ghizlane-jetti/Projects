{
 "cells": [
  {
   "cell_type": "markdown",
   "metadata": {},
   "source": [
    "# Disaster Events Detection with PySpark MLlib"
   ]
  },
  {
   "cell_type": "markdown",
   "metadata": {},
   "source": [
    "### Import libraries"
   ]
  },
  {
   "cell_type": "code",
   "execution_count": 5,
   "metadata": {},
   "outputs": [],
   "source": [
    "import numpy as np\n",
    "import pandas as pd\n",
    "import matplotlib.pyplot as plt\n",
    "\n",
    "from pyspark.ml.feature import CountVectorizer,StringIndexer, RegexTokenizer,StopWordsRemover, Tokenizer\n",
    "from pyspark.sql.functions import col, udf,regexp_replace,isnull\n",
    "from pyspark.sql.types import StringType,IntegerType\n",
    "from pyspark.sql import SparkSession\n",
    "from pyspark.ml import Pipeline\n",
    "from pyspark.ml.classification import NaiveBayes, LinearSVC, RandomForestClassifier, LogisticRegression, DecisionTreeClassifier, GBTClassifier\n",
    "from pyspark.ml.evaluation import MulticlassClassificationEvaluator, BinaryClassificationEvaluator\n",
    "from pyspark.ml import Pipeline\n",
    "from pyspark.ml.feature import IndexToString, StringIndexer, VectorIndexer\n"
   ]
  },
  {
   "cell_type": "markdown",
   "metadata": {},
   "source": [
    "### Create a spark session"
   ]
  },
  {
   "cell_type": "code",
   "execution_count": 6,
   "metadata": {},
   "outputs": [],
   "source": [
    "spark = SparkSession.builder.appName('nlp').getOrCreate()"
   ]
  },
  {
   "cell_type": "markdown",
   "metadata": {},
   "source": [
    "## Exploring data analysis"
   ]
  },
  {
   "cell_type": "markdown",
   "metadata": {},
   "source": [
    "#### Load data file"
   ]
  },
  {
   "cell_type": "code",
   "execution_count": 7,
   "metadata": {},
   "outputs": [],
   "source": [
    "#data\n",
    "df = spark.read.csv('file:/home/user/folder/Dataset_Disaster.csv', header = True, inferSchema = True)"
   ]
  },
  {
   "cell_type": "code",
   "execution_count": 8,
   "metadata": {},
   "outputs": [
    {
     "name": "stdout",
     "output_type": "stream",
     "text": [
      "+---+--------------------+------+--------------------+\n",
      "| id|                text|target|              tokens|\n",
      "+---+--------------------+------+--------------------+\n",
      "|  1|our deeds are the...|     1|['deed', 'reason'...|\n",
      "|  4|forest fire near ...|     1|['forest', 'fire'...|\n",
      "|  5|all residents ask...|     1|['resid', 'ask', ...|\n",
      "|  6| people receive w...|     1|['peopl', 'receiv...|\n",
      "|  7|just got sent thi...|     1|['got', 'sent', '...|\n",
      "|  8|rockyfire update ...|     1|['rockyfir', 'upd...|\n",
      "| 10|flood disaster he...|     1|['flood', 'disast...|\n",
      "| 13|im on top of the ...|     1|['im', 'top', 'hi...|\n",
      "| 14|theres an emergen...|     1|['there', 'emerg'...|\n",
      "| 15|im afraid that th...|     1|['im', 'afraid', ...|\n",
      "| 16|three people died...|     1|['three', 'peopl'...|\n",
      "| 17|haha south tampa ...|     1|['haha', 'south',...|\n",
      "| 18|raining flooding ...|     1|['rain', 'flood',...|\n",
      "| 19|flood in bago mya...|     1|['flood', 'bago',...|\n",
      "| 20|damage to school ...|     1|['damag', 'school...|\n",
      "| 23|        whats up man|     0|     ['what', 'man']|\n",
      "| 24|       i love fruits|     0|   ['love', 'fruit']|\n",
      "| 25|    summer is lovely|     0|  ['summer', 'love']|\n",
      "| 26|   my car is so fast|     0|     ['car', 'fast']|\n",
      "| 28|what a goooooooaa...|     0| ['goooooooaaaaaal']|\n",
      "+---+--------------------+------+--------------------+\n",
      "only showing top 20 rows\n",
      "\n"
     ]
    }
   ],
   "source": [
    "#show data\n",
    "df.show()"
   ]
  },
  {
   "cell_type": "code",
   "execution_count": 9,
   "metadata": {},
   "outputs": [
    {
     "name": "stdout",
     "output_type": "stream",
     "text": [
      "Data Count: 10876\n"
     ]
    }
   ],
   "source": [
    "print(\"Data Count:\",df.count())"
   ]
  },
  {
   "cell_type": "code",
   "execution_count": 10,
   "metadata": {},
   "outputs": [
    {
     "data": {
      "text/plain": [
       "target\n",
       "0    7605\n",
       "1    3271\n",
       "dtype: int64"
      ]
     },
     "execution_count": 10,
     "metadata": {},
     "output_type": "execute_result"
    }
   ],
   "source": [
    "# the number of tweets (tokens) for each target (O or 1)\n",
    "df.toPandas().groupby(['target']).size()"
   ]
  },
  {
   "cell_type": "markdown",
   "metadata": {},
   "source": [
    "## Data Preprocessing"
   ]
  },
  {
   "cell_type": "code",
   "execution_count": 11,
   "metadata": {},
   "outputs": [
    {
     "name": "stdout",
     "output_type": "stream",
     "text": [
      "+---+--------------------+------+\n",
      "| id|              tokens|target|\n",
      "+---+--------------------+------+\n",
      "|  1|['deed', 'reason'...|     1|\n",
      "|  4|['forest', 'fire'...|     1|\n",
      "|  5|['resid', 'ask', ...|     1|\n",
      "|  6|['peopl', 'receiv...|     1|\n",
      "|  7|['got', 'sent', '...|     1|\n",
      "+---+--------------------+------+\n",
      "only showing top 5 rows\n",
      "\n"
     ]
    }
   ],
   "source": [
    "# Extract id, tokens and target from datset\n",
    "df = df.select(\"id\",\"tokens\",\"target\")\n",
    "df.show(5)"
   ]
  },
  {
   "cell_type": "markdown",
   "metadata": {},
   "source": [
    "### Drop missing values"
   ]
  },
  {
   "cell_type": "code",
   "execution_count": 12,
   "metadata": {},
   "outputs": [
    {
     "data": {
      "text/plain": [
       "10876"
      ]
     },
     "execution_count": 12,
     "metadata": {},
     "output_type": "execute_result"
    }
   ],
   "source": [
    "df = df.dropna()\n",
    "df.count()"
   ]
  },
  {
   "cell_type": "markdown",
   "metadata": {},
   "source": [
    "###  Removing numbers from the tweet"
   ]
  },
  {
   "cell_type": "code",
   "execution_count": 13,
   "metadata": {},
   "outputs": [
    {
     "name": "stdout",
     "output_type": "stream",
     "text": [
      "+---+--------------------+------+\n",
      "| id|              Tokens|target|\n",
      "+---+--------------------+------+\n",
      "|  1|['deed', 'reason'...|     1|\n",
      "|  4|['forest', 'fire'...|     1|\n",
      "|  5|['resid', 'ask', ...|     1|\n",
      "|  6|['peopl', 'receiv...|     1|\n",
      "|  7|['got', 'sent', '...|     1|\n",
      "+---+--------------------+------+\n",
      "only showing top 5 rows\n",
      "\n"
     ]
    }
   ],
   "source": [
    "df = df.withColumn(\"Tokens\",regexp_replace(col('tokens'), '\\d+', ''))\n",
    "df.show(5)"
   ]
  },
  {
   "cell_type": "markdown",
   "metadata": {},
   "source": [
    "### Tokenization +  Lowercase + Remove Special characters"
   ]
  },
  {
   "cell_type": "code",
   "execution_count": 14,
   "metadata": {},
   "outputs": [
    {
     "name": "stdout",
     "output_type": "stream",
     "text": [
      "+---+--------------------+------+--------------------+\n",
      "| id|              Tokens|target|                   t|\n",
      "+---+--------------------+------+--------------------+\n",
      "|  1|['deed', 'reason'...|     1|[deed, reason, ea...|\n",
      "|  4|['forest', 'fire'...|     1|[forest, fire, ne...|\n",
      "|  5|['resid', 'ask', ...|     1|[resid, ask, shel...|\n",
      "|  6|['peopl', 'receiv...|     1|[peopl, receiv, w...|\n",
      "|  7|['got', 'sent', '...|     1|[got, sent, photo...|\n",
      "|  8|['rockyfir', 'upd...|     1|[rockyfir, updat,...|\n",
      "| 10|['flood', 'disast...|     1|[flood, disast, h...|\n",
      "| 13|['im', 'top', 'hi...|     1|[im, top, hill, s...|\n",
      "| 14|['there', 'emerg'...|     1|[there, emerg, ev...|\n",
      "| 15|['im', 'afraid', ...|     1|[im, afraid, torn...|\n",
      "| 16|['three', 'peopl'...|     1|[three, peopl, di...|\n",
      "| 17|['haha', 'south',...|     1|[haha, south, tam...|\n",
      "| 18|['rain', 'flood',...|     1|[rain, flood, flo...|\n",
      "| 19|['flood', 'bago',...|     1|[flood, bago, mya...|\n",
      "| 20|['damag', 'school...|     1|[damag, school, b...|\n",
      "| 23|     ['what', 'man']|     0|         [what, man]|\n",
      "| 24|   ['love', 'fruit']|     0|       [love, fruit]|\n",
      "| 25|  ['summer', 'love']|     0|      [summer, love]|\n",
      "| 26|     ['car', 'fast']|     0|         [car, fast]|\n",
      "| 28| ['goooooooaaaaaal']|     0|   [goooooooaaaaaal]|\n",
      "+---+--------------------+------+--------------------+\n",
      "only showing top 20 rows\n",
      "\n"
     ]
    }
   ],
   "source": [
    "regex_tokenizer = RegexTokenizer(inputCol=\"Tokens\", outputCol=\"t\", pattern=\"\\\\W\")\n",
    "raw_words = regex_tokenizer.transform(df)\n",
    "raw_words.show()"
   ]
  },
  {
   "cell_type": "markdown",
   "metadata": {},
   "source": [
    "### Removing the stop words from raw words"
   ]
  },
  {
   "cell_type": "code",
   "execution_count": 15,
   "metadata": {},
   "outputs": [
    {
     "name": "stdout",
     "output_type": "stream",
     "text": [
      "+---+--------------------+------+--------------------+--------------------+\n",
      "| id|              Tokens|target|                   t|            filtered|\n",
      "+---+--------------------+------+--------------------+--------------------+\n",
      "|  1|['deed', 'reason'...|     1|[deed, reason, ea...|[deed, reason, ea...|\n",
      "|  4|['forest', 'fire'...|     1|[forest, fire, ne...|[forest, fire, ne...|\n",
      "|  5|['resid', 'ask', ...|     1|[resid, ask, shel...|[resid, ask, shel...|\n",
      "|  6|['peopl', 'receiv...|     1|[peopl, receiv, w...|[peopl, receiv, w...|\n",
      "|  7|['got', 'sent', '...|     1|[got, sent, photo...|[got, sent, photo...|\n",
      "+---+--------------------+------+--------------------+--------------------+\n",
      "only showing top 5 rows\n",
      "\n"
     ]
    }
   ],
   "source": [
    "remover = StopWordsRemover(inputCol=\"t\", outputCol=\"filtered\")\n",
    "words_df = remover.transform(raw_words)\n",
    "words_df.show(5)"
   ]
  },
  {
   "cell_type": "markdown",
   "metadata": {},
   "source": [
    "### Create a features column from the words"
   ]
  },
  {
   "cell_type": "code",
   "execution_count": 16,
   "metadata": {},
   "outputs": [
    {
     "name": "stdout",
     "output_type": "stream",
     "text": [
      "+---+--------------------+------+--------------------+--------------------+--------------------+-----+\n",
      "| id|              Tokens|target|                   t|            filtered|            features|label|\n",
      "+---+--------------------+------+--------------------+--------------------+--------------------+-----+\n",
      "|  1|['deed', 'reason'...|     1|[deed, reason, ea...|[deed, reason, ea...|(25841,[5,115,233...|    1|\n",
      "|  4|['forest', 'fire'...|     1|[forest, fire, ne...|[forest, fire, ne...|(25841,[2,130,179...|    1|\n",
      "|  5|['resid', 'ask', ...|     1|[resid, ask, shel...|[resid, ask, shel...|(25841,[47,239,34...|    1|\n",
      "|  6|['peopl', 'receiv...|     1|[peopl, receiv, w...|[peopl, receiv, w...|(25841,[13,47,56,...|    1|\n",
      "|  7|['got', 'sent', '...|     1|[got, sent, photo...|[got, sent, photo...|(25841,[52,110,15...|    1|\n",
      "+---+--------------------+------+--------------------+--------------------+--------------------+-----+\n",
      "only showing top 5 rows\n",
      "\n"
     ]
    }
   ],
   "source": [
    "cv = CountVectorizer(inputCol=\"filtered\", outputCol=\"features\")\n",
    "model = cv.fit(words_df)\n",
    "countVectorizer_train = model.transform(words_df)\n",
    "countVectorizer_train = countVectorizer_train.withColumn(\"label\",col('target'))\n",
    "countVectorizer_train.show(5)"
   ]
  },
  {
   "cell_type": "code",
   "execution_count": 17,
   "metadata": {},
   "outputs": [
    {
     "name": "stdout",
     "output_type": "stream",
     "text": [
      "+--------------------+--------------------+--------------------+-----+\n",
      "|              tokens|            filtered|            features|label|\n",
      "+--------------------+--------------------+--------------------+-----+\n",
      "|['deed', 'reason'...|[deed, reason, ea...|(25841,[5,115,233...|    1|\n",
      "|['forest', 'fire'...|[forest, fire, ne...|(25841,[2,130,179...|    1|\n",
      "|['resid', 'ask', ...|[resid, ask, shel...|(25841,[47,239,34...|    1|\n",
      "|['peopl', 'receiv...|[peopl, receiv, w...|(25841,[13,47,56,...|    1|\n",
      "|['got', 'sent', '...|[got, sent, photo...|(25841,[52,110,15...|    1|\n",
      "|['rockyfir', 'upd...|[rockyfir, updat,...|(25841,[2,56,110,...|    1|\n",
      "|['flood', 'disast...|[flood, disast, h...|(25841,[21,23,67,...|    1|\n",
      "|['im', 'top', 'hi...|[im, top, hill, s...|(25841,[2,6,38,19...|    1|\n",
      "|['there', 'emerg'...|[emerg, evacu, ha...|(25841,[20,24,47,...|    1|\n",
      "|['im', 'afraid', ...|[im, afraid, torn...|(25841,[6,41,293,...|    1|\n",
      "|['three', 'peopl'...|[three, peopl, di...|(25841,[13,120,16...|    1|\n",
      "|['haha', 'south',...|[haha, south, tam...|(25841,[3,21,105,...|    1|\n",
      "|['rain', 'flood',...|[rain, flood, flo...|(25841,[21,30,197...|    1|\n",
      "|['flood', 'bago',...|[flood, bago, mya...|(25841,[21,814,90...|    1|\n",
      "|['damag', 'school...|[damag, school, b...|(25841,[22,57,162...|    1|\n",
      "|     ['what', 'man']|               [man]|  (25841,[65],[1.0])|    0|\n",
      "|   ['love', 'fruit']|       [love, fruit]|(25841,[32,1647],...|    0|\n",
      "|  ['summer', 'love']|      [summer, love]|(25841,[32,251],[...|    0|\n",
      "|     ['car', 'fast']|         [car, fast]|(25841,[57,730],[...|    0|\n",
      "| ['goooooooaaaaaal']|   [goooooooaaaaaal]|(25841,[15299],[1...|    0|\n",
      "+--------------------+--------------------+--------------------+-----+\n",
      "only showing top 20 rows\n",
      "\n"
     ]
    }
   ],
   "source": [
    "countVectorizer_train.select('tokens','filtered','features','label').show()"
   ]
  },
  {
   "cell_type": "markdown",
   "metadata": {},
   "source": [
    "### Separate the Train and Validation Data"
   ]
  },
  {
   "cell_type": "code",
   "execution_count": 18,
   "metadata": {},
   "outputs": [],
   "source": [
    "(train, validate) = countVectorizer_train.randomSplit([0.85, 0.15], seed=1)"
   ]
  },
  {
   "cell_type": "markdown",
   "metadata": {},
   "source": [
    "## Machine Learning Prediction Models"
   ]
  },
  {
   "cell_type": "markdown",
   "metadata": {},
   "source": [
    "### Naive Bayes Classifier"
   ]
  },
  {
   "cell_type": "code",
   "execution_count": 19,
   "metadata": {},
   "outputs": [],
   "source": [
    "nb = NaiveBayes(modelType=\"multinomial\",labelCol=\"label\", featuresCol=\"features\")\n",
    "nbModel = nb.fit(train)"
   ]
  },
  {
   "cell_type": "code",
   "execution_count": 20,
   "metadata": {},
   "outputs": [
    {
     "name": "stdout",
     "output_type": "stream",
     "text": [
      "NaiveBayes Accuracy for train data = 0.882113\n",
      "NaiveBayes Recall for train data = 0.882851\n",
      "NaiveBayes F1 score for train data  = 0.882424\n",
      "Area Under ROC for train data=  0.47934059762277015\n"
     ]
    }
   ],
   "source": [
    "#train data\n",
    "nb_predictions = nbModel.transform(train)\n",
    "\n",
    "evaluator = MulticlassClassificationEvaluator(labelCol=\"label\", predictionCol=\"prediction\", metricName=\"weightedPrecision\")\n",
    "nb_accuracy = evaluator.evaluate(nb_predictions)\n",
    "print(\"NaiveBayes Accuracy for train data = %g\"% (nb_accuracy))\n",
    "\n",
    "evaluator = MulticlassClassificationEvaluator(labelCol=\"label\", predictionCol=\"prediction\", metricName=\"weightedRecall\")\n",
    "nb_accuracy = evaluator.evaluate(nb_predictions)\n",
    "print(\"NaiveBayes Recall for train data = %g\"% (nb_accuracy))\n",
    "\n",
    "evaluator = MulticlassClassificationEvaluator(labelCol=\"label\", predictionCol=\"prediction\", metricName=\"f1\")\n",
    "nb_F1 = evaluator.evaluate(nb_predictions)\n",
    "print(\"NaiveBayes F1 score for train data  = %g\"% (nb_F1))\n",
    "\n",
    "nbEval = BinaryClassificationEvaluator()\n",
    "print('Area Under ROC for train data= ', nbEval.evaluate(nb_predictions))"
   ]
  },
  {
   "cell_type": "code",
   "execution_count": 23,
   "metadata": {},
   "outputs": [
    {
     "name": "stdout",
     "output_type": "stream",
     "text": [
      "NaiveBayes Accuracy for test data = 0.755924\n",
      "NaiveBayes Recall for test data = 0.757393\n",
      "NaiveBayes F1 score for test data  = 0.756629\n",
      "Area Under ROC for test data =  0.4541569314641751\n"
     ]
    }
   ],
   "source": [
    "#test data\n",
    "nb_predictions = nbModel.transform(validate)\n",
    "evaluator = MulticlassClassificationEvaluator(labelCol=\"label\", predictionCol=\"prediction\", metricName=\"weightedPrecision\")\n",
    "nb_accuracy = evaluator.evaluate(nb_predictions)\n",
    "print(\"NaiveBayes Accuracy for test data = %g\"% (nb_accuracy))\n",
    "\n",
    "evaluator = MulticlassClassificationEvaluator(labelCol=\"label\", predictionCol=\"prediction\", metricName=\"weightedRecall\")\n",
    "nb_accuracy = evaluator.evaluate(nb_predictions)\n",
    "print(\"NaiveBayes Recall for test data = %g\"% (nb_accuracy))\n",
    "\n",
    "evaluator = MulticlassClassificationEvaluator(labelCol=\"label\", predictionCol=\"prediction\", metricName=\"f1\")\n",
    "nb_F1 = evaluator.evaluate(nb_predictions)\n",
    "print(\"NaiveBayes F1 score for test data  = %g\"% (nb_F1))\n",
    "\n",
    "nbEval = BinaryClassificationEvaluator()\n",
    "print('Area Under ROC for test data = ', nbEval.evaluate(nb_predictions))"
   ]
  },
  {
   "cell_type": "markdown",
   "metadata": {},
   "source": [
    "### Logistic Regression Model"
   ]
  },
  {
   "cell_type": "code",
   "execution_count": 22,
   "metadata": {},
   "outputs": [],
   "source": [
    "lr = LogisticRegression(featuresCol = 'features', labelCol = 'target', maxIter=10)\n",
    "lrModel = lr.fit(train)"
   ]
  },
  {
   "cell_type": "code",
   "execution_count": 185,
   "metadata": {},
   "outputs": [
    {
     "data": {
      "image/png": "[encoded data removed]",
      "text/plain": [
       "<Figure size 432x288 with 1 Axes>"
      ]
     },
     "metadata": {
      "needs_background": "light"
     },
     "output_type": "display_data"
    }
   ],
   "source": [
    "beta = np.sort(lrModel.coefficients)\n",
    "plt.plot(beta)\n",
    "plt.ylabel('Beta Coefficients')\n",
    "plt.show()"
   ]
  },
  {
   "cell_type": "code",
   "execution_count": 186,
   "metadata": {},
   "outputs": [
    {
     "data": {
      "image/png": "[encoded data removed]",
      "text/plain": [
       "<Figure size 432x288 with 1 Axes>"
      ]
     },
     "metadata": {
      "needs_background": "light"
     },
     "output_type": "display_data"
    }
   ],
   "source": [
    "trainingSummary = lrModel.summary\n",
    "lrROC = trainingSummary.roc.toPandas()\n",
    "\n",
    "plt.plot(lrROC['FPR'],lrROC['TPR'])\n",
    "plt.ylabel('False Positive Rate')\n",
    "plt.xlabel('True Positive Rate')\n",
    "plt.title('ROC Curve')\n",
    "plt.show()\n"
   ]
  },
  {
   "cell_type": "markdown",
   "metadata": {},
   "source": [
    "#### Precision and recall"
   ]
  },
  {
   "cell_type": "code",
   "execution_count": 187,
   "metadata": {},
   "outputs": [
    {
     "data": {
      "image/png": "[encoded data removed]",
      "text/plain": [
       "<Figure size 432x288 with 1 Axes>"
      ]
     },
     "metadata": {
      "needs_background": "light"
     },
     "output_type": "display_data"
    }
   ],
   "source": [
    "pr = trainingSummary.pr.toPandas()\n",
    "plt.plot(pr['recall'],pr['precision'])\n",
    "plt.ylabel('Precision')\n",
    "plt.xlabel('Recall')\n",
    "plt.show()"
   ]
  },
  {
   "cell_type": "markdown",
   "metadata": {},
   "source": [
    "#### Evaluate the Logistic Regression model"
   ]
  },
  {
   "cell_type": "code",
   "execution_count": 205,
   "metadata": {},
   "outputs": [
    {
     "name": "stdout",
     "output_type": "stream",
     "text": [
      "Logistic Regression Accuracy of train data = 0.991756\n",
      "Logistic Regression Recall of train data = 0.991756\n",
      "Logistic Regression f1 of train data = 0.991758\n",
      "Train Area Under ROC 0.9997961322028737\n"
     ]
    }
   ],
   "source": [
    "#train data\n",
    "lrPreds = lrModel.transform(train)\n",
    "\n",
    "evaluator = MulticlassClassificationEvaluator(labelCol=\"label\", predictionCol=\"prediction\", metricName=\"accuracy\")\n",
    "lr_accuracy = evaluator.evaluate(lrPreds)\n",
    "print(\"Logistic Regression Accuracy of train data = %g\"% (lr_accuracy))\n",
    "\n",
    "evaluator = MulticlassClassificationEvaluator(labelCol=\"label\", predictionCol=\"prediction\", metricName=\"weightedRecall\")\n",
    "lr_recall = evaluator.evaluate(lrPreds)\n",
    "print(\"Logistic Regression Recall of train data = %g\"% (lr_recall))\n",
    "\n",
    "evaluator = MulticlassClassificationEvaluator(labelCol=\"label\", predictionCol=\"prediction\", metricName=\"f1\")\n",
    "lr_recall = evaluator.evaluate(lrPreds)\n",
    "print(\"Logistic Regression f1 of train data = %g\"% (lr_recall))\n",
    "\n",
    "lrEval = BinaryClassificationEvaluator()\n",
    "print('Train Area Under ROC', lrEval.evaluate(lrPreds))\n"
   ]
  },
  {
   "cell_type": "code",
   "execution_count": 207,
   "metadata": {},
   "outputs": [
    {
     "name": "stdout",
     "output_type": "stream",
     "text": [
      "Logistic Regression Accuracy of test data = 0.7242\n",
      "Logistic Regression Recall of test data = 0.7242\n",
      "Logistic Regression f1 of test data = 0.712381\n",
      "Test Area Under ROC 0.6935163551401841\n"
     ]
    }
   ],
   "source": [
    "#test data\n",
    "lrPreds = lrModel.transform(validate)\n",
    "\n",
    "evaluator = MulticlassClassificationEvaluator(labelCol=\"label\", predictionCol=\"prediction\", metricName=\"accuracy\")\n",
    "lr_accuracy = evaluator.evaluate(lrPreds)\n",
    "print(\"Logistic Regression Accuracy of test data = %g\"% (lr_accuracy))\n",
    "\n",
    "evaluator = MulticlassClassificationEvaluator(labelCol=\"label\", predictionCol=\"prediction\", metricName=\"weightedRecall\")\n",
    "lr_recall = evaluator.evaluate(lrPreds)\n",
    "print(\"Logistic Regression Recall of test data = %g\"% (lr_recall))\n",
    "\n",
    "evaluator = MulticlassClassificationEvaluator(labelCol=\"label\", predictionCol=\"prediction\", metricName=\"f1\")\n",
    "lr_recall = evaluator.evaluate(lrPreds)\n",
    "print(\"Logistic Regression f1 of test data = %g\"% (lr_recall))\n",
    "\n",
    "lrEval = BinaryClassificationEvaluator()\n",
    "print('Test Area Under ROC', lrEval.evaluate(lrPreds))\n"
   ]
  },
  {
   "cell_type": "markdown",
   "metadata": {},
   "source": [
    "### Decision Tree Classifier"
   ]
  },
  {
   "cell_type": "code",
   "execution_count": 190,
   "metadata": {},
   "outputs": [
    {
     "name": "stdout",
     "output_type": "stream",
     "text": [
      "+--------------------+----------+------+\n",
      "|         probability|prediction|target|\n",
      "+--------------------+----------+------+\n",
      "|[0.71808510638297...|       0.0|     1|\n",
      "|[0.71808510638297...|       0.0|     1|\n",
      "|[0.71808510638297...|       0.0|     1|\n",
      "|[0.71808510638297...|       0.0|     0|\n",
      "|[0.71808510638297...|       0.0|     0|\n",
      "|[0.71808510638297...|       0.0|     0|\n",
      "|[0.71808510638297...|       0.0|     0|\n",
      "|[0.71808510638297...|       0.0|     1|\n",
      "|[0.71808510638297...|       0.0|     1|\n",
      "|[0.71808510638297...|       0.0|     0|\n",
      "|[0.71808510638297...|       0.0|     0|\n",
      "|[0.71808510638297...|       0.0|     0|\n",
      "|[0.71808510638297...|       0.0|     1|\n",
      "|[0.71808510638297...|       0.0|     1|\n",
      "|[0.71808510638297...|       0.0|     0|\n",
      "|[0.71808510638297...|       0.0|     0|\n",
      "|[0.71808510638297...|       0.0|     1|\n",
      "|[0.71808510638297...|       0.0|     1|\n",
      "|[0.71808510638297...|       0.0|     1|\n",
      "|[0.71808510638297...|       0.0|     1|\n",
      "+--------------------+----------+------+\n",
      "only showing top 20 rows\n",
      "\n"
     ]
    }
   ],
   "source": [
    "dt = DecisionTreeClassifier(featuresCol = 'features', labelCol = 'target', maxDepth = 3)\n",
    "dtModel = dt.fit(train)\n",
    "dtPreds = dtModel.transform(validate)\n",
    "dtPreds.select(\"probability\",\"prediction\",\"target\").show()"
   ]
  },
  {
   "cell_type": "code",
   "execution_count": 203,
   "metadata": {},
   "outputs": [
    {
     "name": "stdout",
     "output_type": "stream",
     "text": [
      "+----------+------+--------------------+\n",
      "|prediction|target|            features|\n",
      "+----------+------+--------------------+\n",
      "|       0.0|     0|(25841,[22,57,173...|\n",
      "|       0.0|     1|(25841,[5,115,233...|\n",
      "|       0.0|     0|(25841,[153,233,2...|\n",
      "|       0.0|     0|(25841,[2,124,130...|\n",
      "|       0.0|     1|(25841,[47,239,34...|\n",
      "+----------+------+--------------------+\n",
      "only showing top 5 rows\n",
      "\n",
      "Decision Tree accuracy of train data = 0.712225 \n",
      "Decision Tree recall of train data = 0.712225 \n",
      "Decision Tree F1 score of train data = 0.637706 \n",
      "Desicion Tree Train Area Under ROC 0.4533856212195971\n"
     ]
    }
   ],
   "source": [
    "#train data\n",
    "\n",
    "dtPreds = dtModel.transform(train)\n",
    "predictions=dtPreds\n",
    "# Select example rows to display.\n",
    "predictions.select(\"prediction\", \"target\", \"features\").show(5)\n",
    "\n",
    "# Select (prediction, true label) and compute test error\n",
    "acc = MulticlassClassificationEvaluator(\n",
    "    labelCol=\"target\", predictionCol=\"prediction\", metricName=\"accuracy\")\n",
    "accuracy = acc.evaluate(predictions)\n",
    "print(\"Decision Tree accuracy of train data = %g \" %  accuracy)\n",
    "\n",
    "rec = MulticlassClassificationEvaluator(\n",
    "    labelCol=\"target\", predictionCol=\"prediction\", metricName=\"weightedRecall\")\n",
    "recall = rec.evaluate(predictions)\n",
    "print(\"Decision Tree recall of train data = %g \" %  recall)\n",
    "\n",
    "F1 = MulticlassClassificationEvaluator(\n",
    "    labelCol=\"target\", predictionCol=\"prediction\", metricName=\"f1\")\n",
    "f1_score = F1.evaluate(predictions)\n",
    "print(\"Decision Tree F1 score of train data = %g \" %  f1_score)\n",
    "\n",
    "DTEval = BinaryClassificationEvaluator()\n",
    "print('Desicion Tree Train Area Under ROC', DTEval.evaluate(dtPreds))"
   ]
  },
  {
   "cell_type": "code",
   "execution_count": 204,
   "metadata": {},
   "outputs": [
    {
     "name": "stdout",
     "output_type": "stream",
     "text": [
      "+----------+------+--------------------+\n",
      "|prediction|target|            features|\n",
      "+----------+------+--------------------+\n",
      "|       0.0|     1|(25841,[2,130,179...|\n",
      "|       0.0|     1|(25841,[21,23,67,...|\n",
      "|       0.0|     1|(25841,[22,57,162...|\n",
      "|       0.0|     0|(25841,[520,1025]...|\n",
      "|       0.0|     0|(25841,[15011],[1...|\n",
      "+----------+------+--------------------+\n",
      "only showing top 5 rows\n",
      "\n",
      "Decision Tree accuracy of test data = 0.724804 \n",
      "Decision Tree recall of test data = 0.724804 \n",
      "Decision Tree F1 score of test data = 0.658536 \n",
      "Test Area Under ROC 0.44590147975077876\n"
     ]
    }
   ],
   "source": [
    "#test data\n",
    "\n",
    "dtPreds = dtModel.transform(validate)\n",
    "predictions=dtPreds\n",
    "# Select example rows to display.\n",
    "predictions.select(\"prediction\", \"target\", \"features\").show(5)\n",
    "\n",
    "# Select (prediction, true label) and compute test error\n",
    "acc = MulticlassClassificationEvaluator(\n",
    "    labelCol=\"target\", predictionCol=\"prediction\", metricName=\"accuracy\")\n",
    "accuracy = acc.evaluate(predictions)\n",
    "print(\"Decision Tree accuracy of test data = %g \" %  accuracy)\n",
    "\n",
    "rec = MulticlassClassificationEvaluator(\n",
    "    labelCol=\"target\", predictionCol=\"prediction\", metricName=\"weightedRecall\")\n",
    "recall = rec.evaluate(predictions)\n",
    "print(\"Decision Tree recall of test data = %g \" %  recall)\n",
    "\n",
    "F1 = MulticlassClassificationEvaluator(\n",
    "    labelCol=\"target\", predictionCol=\"prediction\", metricName=\"f1\")\n",
    "f1_score = F1.evaluate(predictions)\n",
    "print(\"Decision Tree F1 score of test data = %g \" %  f1_score)\n",
    "\n",
    "DTEval = BinaryClassificationEvaluator()\n",
    "print('Test Area Under ROC', DTEval.evaluate(dtPreds))"
   ]
  },
  {
   "cell_type": "markdown",
   "metadata": {},
   "source": [
    "### Random Forest"
   ]
  },
  {
   "cell_type": "code",
   "execution_count": 221,
   "metadata": {},
   "outputs": [],
   "source": [
    "\n",
    "# Fit on whole dataset to include all labels in index.\n",
    "labelIndexer = StringIndexer(inputCol=\"label\", outputCol=\"indexedLabel\").fit(countVectorizer_train)\n",
    "\n",
    "# Automatically identify categorical features, and index them.\n",
    "# Set maxCategories so features with > 4 distinct values are treated as continuous.\n",
    "featureIndexer =\\\n",
    "    VectorIndexer(inputCol=\"features\", outputCol=\"p\", maxCategories=4).fit(countVectorizer_train)\n",
    "\n",
    "\n",
    "\n",
    "# Train a RandomForest model.\n",
    "rf = RandomForestClassifier(labelCol=\"label\", featuresCol=\"features\", numTrees=40)\n",
    "\n",
    "# Convert indexed labels back to original labels.\n",
    "labelConverter = IndexToString(inputCol=\"prediction\", outputCol=\"predictedLabel\",\n",
    "                               labels=labelIndexer.labels)\n"
   ]
  },
  {
   "cell_type": "code",
   "execution_count": 222,
   "metadata": {},
   "outputs": [],
   "source": [
    "\n",
    "# Chain indexers and forest in a Pipeline\n",
    "pipeline = Pipeline(stages=[labelIndexer, featureIndexer, rf, labelConverter])\n",
    "\n",
    "# Train model.  This also runs the indexers.\n",
    "model = pipeline.fit(train)"
   ]
  },
  {
   "cell_type": "code",
   "execution_count": 223,
   "metadata": {},
   "outputs": [
    {
     "name": "stdout",
     "output_type": "stream",
     "text": [
      "+--------------+-----+--------------------+\n",
      "|predictedLabel|label|            features|\n",
      "+--------------+-----+--------------------+\n",
      "|             0|    0|(25841,[22,57,173...|\n",
      "|             0|    1|(25841,[5,115,233...|\n",
      "|             0|    0|(25841,[153,233,2...|\n",
      "|             0|    0|(25841,[2,124,130...|\n",
      "|             0|    1|(25841,[47,239,34...|\n",
      "+--------------+-----+--------------------+\n",
      "only showing top 5 rows\n",
      "\n",
      "Random Forest accuracy for train data = 0.697256\n",
      "Random Forest recall for train data = 0.697256 \n",
      "Random Forest F1 score for train data = 0.572884 \n",
      "Train Area Under ROC 0.7854128536095994\n",
      "RandomForestClassificationModel (uid=RandomForestClassifier_2a0e86263e53) with 80 trees\n"
     ]
    }
   ],
   "source": [
    "# train data\n",
    "predictions = model.transform(train)\n",
    "\n",
    "# Select example rows to display.\n",
    "predictions.select(\"predictedLabel\", \"label\", \"features\").show(5)\n",
    "\n",
    "# Select (prediction, true label) and compute test error\n",
    "evaluator = MulticlassClassificationEvaluator(\n",
    "    labelCol=\"indexedLabel\", predictionCol=\"prediction\", metricName=\"accuracy\")\n",
    "accuracy = evaluator.evaluate(predictions)\n",
    "print(\"Random Forest accuracy for train data = %g\" % (accuracy))\n",
    "\n",
    "rec = MulticlassClassificationEvaluator(\n",
    "    labelCol=\"target\", predictionCol=\"prediction\", metricName=\"weightedRecall\")\n",
    "recall = rec.evaluate(predictions)\n",
    "print(\"Random Forest recall for train data = %g \" %  recall)\n",
    "\n",
    "F1 = MulticlassClassificationEvaluator(\n",
    "    labelCol=\"target\", predictionCol=\"prediction\", metricName=\"f1\")\n",
    "f1_score = F1.evaluate(predictions)\n",
    "print(\"Random Forest F1 score for train data = %g \" %  f1_score)\n",
    "\n",
    "rfEval = BinaryClassificationEvaluator()\n",
    "print('Train Area Under ROC', rfEval.evaluate(predictions))\n",
    "\n",
    "rfModel = model.stages[2]\n",
    "print(rfModel)  # summary only"
   ]
  },
  {
   "cell_type": "code",
   "execution_count": 224,
   "metadata": {},
   "outputs": [
    {
     "name": "stdout",
     "output_type": "stream",
     "text": [
      "+--------------+-----+--------------------+\n",
      "|predictedLabel|label|            features|\n",
      "+--------------+-----+--------------------+\n",
      "|             0|    1|(25841,[2,130,179...|\n",
      "|             0|    1|(25841,[21,23,67,...|\n",
      "|             0|    1|(25841,[22,57,162...|\n",
      "|             0|    0|(25841,[520,1025]...|\n",
      "|             0|    0|(25841,[15011],[1...|\n",
      "+--------------+-----+--------------------+\n",
      "only showing top 5 rows\n",
      "\n",
      "Random Forest accuracy for test data = 0.71032\n",
      "Random Forest recall for test data = 0.71032 \n",
      "Random Forest F1 score for train data = 0.590012 \n",
      "Test Area Under ROC 0.728368380062306\n",
      "RandomForestClassificationModel (uid=RandomForestClassifier_2a0e86263e53) with 80 trees\n"
     ]
    }
   ],
   "source": [
    "# test data\n",
    "predictions = model.transform(validate)\n",
    "\n",
    "# Select example rows to display.\n",
    "predictions.select(\"predictedLabel\", \"label\", \"features\").show(5)\n",
    "\n",
    "# Select (prediction, true label) and compute test error\n",
    "evaluator = MulticlassClassificationEvaluator(\n",
    "    labelCol=\"indexedLabel\", predictionCol=\"prediction\", metricName=\"accuracy\")\n",
    "accuracy = evaluator.evaluate(predictions)\n",
    "print(\"Random Forest accuracy for test data = %g\" % (accuracy))\n",
    "\n",
    "rec = MulticlassClassificationEvaluator(\n",
    "    labelCol=\"target\", predictionCol=\"prediction\", metricName=\"weightedRecall\")\n",
    "recall = rec.evaluate(predictions)\n",
    "print(\"Random Forest recall for test data = %g \" %  recall)\n",
    "\n",
    "F1 = MulticlassClassificationEvaluator(\n",
    "    labelCol=\"target\", predictionCol=\"prediction\", metricName=\"f1\")\n",
    "f1_score = F1.evaluate(predictions)\n",
    "print(\"Random Forest F1 score for train data = %g \" %  f1_score)\n",
    "\n",
    "rfEval = BinaryClassificationEvaluator()\n",
    "print('Test Area Under ROC', rfEval.evaluate(predictions))\n",
    "\n",
    "rfModel = model.stages[2]\n",
    "print(rfModel)  # summary only"
   ]
  },
  {
   "cell_type": "markdown",
   "metadata": {},
   "source": [
    "## Gradient-boosted tree classifier"
   ]
  },
  {
   "cell_type": "code",
   "execution_count": 231,
   "metadata": {},
   "outputs": [
    {
     "name": "stdout",
     "output_type": "stream",
     "text": [
      "+---+--------------------+------+--------------------+--------------------+--------------------+-----+--------------------+--------------------+----------+\n",
      "| id|              Tokens|target|                   t|            filtered|            features|label|       rawPrediction|         probability|prediction|\n",
      "+---+--------------------+------+--------------------+--------------------+--------------------+-----+--------------------+--------------------+----------+\n",
      "|  4|['forest', 'fire'...|     1|[forest, fire, ne...|[forest, fire, ne...|(25841,[2,130,179...|    1|[0.29770063852702...|[0.64460348753227...|       0.0|\n",
      "| 10|['flood', 'disast...|     1|[flood, disast, h...|[flood, disast, h...|(25841,[21,23,67,...|    1|[-0.1453725512293...|[0.42782146344345...|       1.0|\n",
      "| 20|['damag', 'school...|     1|[damag, school, b...|[damag, school, b...|(25841,[22,57,162...|    1|[0.53259782824034...|[0.74368218937526...|       0.0|\n",
      "| 32|  ['london', 'cool']|     0|      [london, cool]|      [london, cool]|(25841,[520,1025]...|    0|[0.53259782824034...|[0.74368218937526...|       0.0|\n",
      "| 36|        ['looooool']|     0|          [looooool]|          [looooool]|(25841,[15011],[1...|    0|[0.53259782824034...|[0.74368218937526...|       0.0|\n",
      "+---+--------------------+------+--------------------+--------------------+--------------------+-----+--------------------+--------------------+----------+\n",
      "only showing top 5 rows\n",
      "\n"
     ]
    }
   ],
   "source": [
    "gbt = GBTClassifier(maxIter=10)\n",
    "gbtModel = gbt.fit(train)\n",
    "predictions = gbtModel.transform(validate)\n",
    "predictions.show(5)"
   ]
  },
  {
   "cell_type": "code",
   "execution_count": 234,
   "metadata": {},
   "outputs": [
    {
     "name": "stdout",
     "output_type": "stream",
     "text": [
      "Gradient-boosted tree classifier Accuracy for test data = 0.732649\n",
      "Gradient-boosted tree classifier Recall for test data = 0.732649\n",
      "Gradient-boosted tree classifier F1 score for test data = 0.675338\n",
      "Test Area Under ROC: 0.6830678278108183\n"
     ]
    }
   ],
   "source": [
    "#test data\n",
    "\n",
    "gbtEval = BinaryClassificationEvaluator() \n",
    "\n",
    "evaluator = MulticlassClassificationEvaluator(labelCol=\"label\", predictionCol=\"prediction\", metricName=\"accuracy\") \n",
    "gb_accuracy = evaluator.evaluate(predictions) \n",
    "print(\"Gradient-boosted tree classifier Accuracy for test data = %g\"% (gb_accuracy))\n",
    "\n",
    "evaluator = MulticlassClassificationEvaluator(labelCol=\"label\", predictionCol=\"prediction\", metricName=\"weightedRecall\") \n",
    "recall = evaluator.evaluate(predictions) \n",
    "print(\"Gradient-boosted tree classifier Recall for test data = %g\"% (recall))\n",
    "\n",
    "evaluator = MulticlassClassificationEvaluator(labelCol=\"label\", predictionCol=\"prediction\", metricName=\"f1\") \n",
    "f1 = evaluator.evaluate(predictions) \n",
    "print(\"Gradient-boosted tree classifier F1 score for test data = %g\"% (f1))\n",
    "\n",
    "gbtROC = gbtEval.evaluate(predictions, {gbtEval.metricName: \"areaUnderROC\"}) \n",
    "print(\"Test Area Under ROC: \" + str(gbtROC))"
   ]
  },
  {
   "cell_type": "code",
   "execution_count": 235,
   "metadata": {},
   "outputs": [
    {
     "name": "stdout",
     "output_type": "stream",
     "text": [
      "Gradient-boosted tree classifier Accuracy for train data = 0.733377\n",
      "Gradient-boosted tree classifier Recall for train data = 0.733377\n",
      "Gradient-boosted tree classifier F1 score for train data = 0.673919\n",
      "Train Area Under ROC: 0.7281076363999585\n"
     ]
    }
   ],
   "source": [
    "predictions = gbtModel.transform(train)\n",
    "gbtEval = BinaryClassificationEvaluator() \n",
    "\n",
    "evaluator = MulticlassClassificationEvaluator(labelCol=\"label\", predictionCol=\"prediction\", metricName=\"accuracy\") \n",
    "gb_accuracy = evaluator.evaluate(predictions) \n",
    "print(\"Gradient-boosted tree classifier Accuracy for train data = %g\"% (gb_accuracy))\n",
    "\n",
    "evaluator = MulticlassClassificationEvaluator(labelCol=\"label\", predictionCol=\"prediction\", metricName=\"weightedRecall\") \n",
    "recall = evaluator.evaluate(predictions) \n",
    "print(\"Gradient-boosted tree classifier Recall for train data = %g\"% (recall))\n",
    "\n",
    "evaluator = MulticlassClassificationEvaluator(labelCol=\"label\", predictionCol=\"prediction\", metricName=\"f1\") \n",
    "f1 = evaluator.evaluate(predictions) \n",
    "print(\"Gradient-boosted tree classifier F1 score for train data = %g\"% (f1))\n",
    "\n",
    "gbtROC = gbtEval.evaluate(predictions, {gbtEval.metricName: \"areaUnderROC\"}) \n",
    "print(\"Train Area Under ROC: \" + str(gbtROC))"
   ]
  },
  {
   "cell_type": "code",
   "execution_count": null,
   "metadata": {},
   "outputs": [],
   "source": []
  }
 ],
 "metadata": {
  "kernelspec": {
   "display_name": "Python 3",
   "language": "python",
   "name": "python3"
  },
  "language_info": {
   "codemirror_mode": {
    "name": "ipython",
    "version": 3
   },
   "file_extension": ".py",
   "mimetype": "text/x-python",
   "name": "python",
   "nbconvert_exporter": "python",
   "pygments_lexer": "ipython3",
   "version": "3.6.9"
  }
 },
 "nbformat": 4,
 "nbformat_minor": 2
}
